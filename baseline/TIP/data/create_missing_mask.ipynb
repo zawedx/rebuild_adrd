{
 "cells": [
  {
   "cell_type": "markdown",
   "metadata": {},
   "source": [
    "# Create missing mask for train, val, test tabular data"
   ]
  },
  {
   "cell_type": "code",
   "execution_count": 1,
   "metadata": {},
   "outputs": [],
   "source": [
    "'''\n",
    "* Licensed under the Apache License, Version 2.\n",
    "* By Siyi Du, 2024\n",
    "'''\n",
    "import numpy as np\n",
    "import pandas as pd\n",
    "from os.path import join, dirname\n",
    "import torch\n",
    "from sklearn.ensemble import RandomForestClassifier\n",
    "from sklearn.metrics import roc_auc_score, accuracy_score"
   ]
  },
  {
   "cell_type": "code",
   "execution_count": null,
   "metadata": {},
   "outputs": [],
   "source": [
    "def create_missing_mask(data_tabular_path, mask_path, random_seed, missing_strategy, missing_rate):\n",
    "    '''\n",
    "    missing_strategy: value (random value missingness) or feature (random feature missingness)\n",
    "    missing_rate: 0.0-1.0\n",
    "    '''\n",
    "    data_tabular = np.array(pd.read_csv(data_tabular_path, header=None))\n",
    "    print(f'data tabular shape: {data_tabular.shape}')\n",
    "    np.random.seed(random_seed)\n",
    "    M, N = data_tabular.shape[0], data_tabular.shape[1]\n",
    "    if missing_strategy == 'value':\n",
    "        missing_mask_data = np.zeros((M*N), dtype=bool)\n",
    "        mask_pos = np.random.choice(M*N, size=int(M*N*missing_rate), replace=False)\n",
    "        missing_mask_data[mask_pos] = True\n",
    "        missing_mask_data = missing_mask_data.reshape((M,N))\n",
    "    elif missing_strategy == 'feature':\n",
    "        missing_mask_data = np.zeros((M,N), dtype=bool)\n",
    "        mask_pos = np.random.choice(N, size=int(N*missing_rate), replace=False)\n",
    "        missing_mask_data[:,mask_pos] = True\n",
    "    else:\n",
    "        raise print('Only support value and feature missing strategy')\n",
    "    np.save(mask_path, missing_mask_data)\n",
    "    print(f'Real missing rate: {missing_mask_data.sum()/missing_mask_data.size}')\n",
    "    print(f'Save missing mask to {mask_path}')\n",
    "    return missing_mask_data\n",
    "\n",
    "def create_certain_missing_mask(data_tabular_path, mask_path, mask_pos_order, missing_strategy, missing_rate):\n",
    "    '''Create mask according to a mask order list (for MI and LI feature missingness)'''\n",
    "    data_tabular = np.array(pd.read_csv(data_tabular_path, header=None))\n",
    "    print(f'data tabular shape: {data_tabular.shape}')\n",
    "    M, N = data_tabular.shape[0], data_tabular.shape[1]\n",
    "    assert N == len(mask_pos_order)\n",
    "    mask_pos = mask_pos_order[:int(N*missing_rate)]\n",
    "    missing_mask_data = np.zeros((M,N), dtype=bool)\n",
    "    missing_mask_data[:,mask_pos] = True\n",
    "    np.save(mask_path, missing_mask_data)\n",
    "    print(f'Real missing rate: {missing_mask_data.sum()/missing_mask_data.size}')\n",
    "    print(f'Save missing mask to {mask_path}')\n",
    "    return missing_mask_data"
   ]
  },
  {
   "cell_type": "markdown",
   "metadata": {},
   "source": [
    "## cardiac"
   ]
  },
  {
   "cell_type": "code",
   "execution_count": 2,
   "metadata": {},
   "outputs": [],
   "source": [
    "# TODO: change to your own path\n",
    "FEATURES = '/bigdata/siyi/data/UKBB/cardiac_segmentations/projects/SelfSuperBio/18545/final'\n",
    "MASK_PATH = join(FEATURES, 'missing_mask')"
   ]
  },
  {
   "cell_type": "markdown",
   "metadata": {},
   "source": [
    "#### Random Mask"
   ]
  },
  {
   "cell_type": "code",
   "execution_count": 4,
   "metadata": {},
   "outputs": [
    {
     "name": "stdout",
     "output_type": "stream",
     "text": [
      "data tabular shape: (26040, 75)\n",
      "Real missing rate: 0.0\n",
      "Save missing mask to /bigdata/siyi/data/UKBB/cardiac_segmentations/projects/SelfSuperBio/18545/final/missing_mask/cardiac_features_train_imputed_noOH_tabular_imaging_reordered_CAD_value_0.0.npy\n",
      "data tabular shape: (6510, 75)\n",
      "Real missing rate: 0.0\n",
      "Save missing mask to /bigdata/siyi/data/UKBB/cardiac_segmentations/projects/SelfSuperBio/18545/final/missing_mask/cardiac_features_val_imputed_noOH_tabular_imaging_reordered_CAD_value_0.0.npy\n",
      "data tabular shape: (3617, 75)\n",
      "Real missing rate: 0.0\n",
      "Save missing mask to /bigdata/siyi/data/UKBB/cardiac_segmentations/projects/SelfSuperBio/18545/final/missing_mask/cardiac_features_test_imputed_noOH_tabular_imaging_reordered_CAD_value_0.0.npy\n",
      "data tabular shape: (3482, 75)\n",
      "Real missing rate: 0.0\n",
      "Save missing mask to /bigdata/siyi/data/UKBB/cardiac_segmentations/projects/SelfSuperBio/18545/final/missing_mask/cardiac_features_train_imputed_noOH_tabular_imaging_CAD_balanced_reordered_CAD_value_0.0.npy\n",
      "data tabular shape: (26040, 75)\n",
      "Real missing rate: 0.0\n",
      "Save missing mask to /bigdata/siyi/data/UKBB/cardiac_segmentations/projects/SelfSuperBio/18545/final/missing_mask/cardiac_features_train_imputed_noOH_tabular_imaging_reordered_Infarction_value_0.0.npy\n",
      "data tabular shape: (6510, 75)\n",
      "Real missing rate: 0.0\n",
      "Save missing mask to /bigdata/siyi/data/UKBB/cardiac_segmentations/projects/SelfSuperBio/18545/final/missing_mask/cardiac_features_val_imputed_noOH_tabular_imaging_reordered_Infarction_value_0.0.npy\n",
      "data tabular shape: (3617, 75)\n",
      "Real missing rate: 0.0\n",
      "Save missing mask to /bigdata/siyi/data/UKBB/cardiac_segmentations/projects/SelfSuperBio/18545/final/missing_mask/cardiac_features_test_imputed_noOH_tabular_imaging_reordered_Infarction_value_0.0.npy\n",
      "data tabular shape: (1552, 75)\n",
      "Real missing rate: 0.0\n",
      "Save missing mask to /bigdata/siyi/data/UKBB/cardiac_segmentations/projects/SelfSuperBio/18545/final/missing_mask/cardiac_features_train_imputed_noOH_tabular_imaging_Infarction_balanced_reordered_Infarction_value_0.0.npy\n"
     ]
    }
   ],
   "source": [
    "missing_strategy = 'value' \n",
    "missing_rate = 0.0\n",
    "\n",
    "for target in ['CAD', 'Infarction']:\n",
    "    train_name = 'cardiac_features_train_imputed_noOH_tabular_imaging_reordered.csv'\n",
    "    val_name = 'cardiac_features_val_imputed_noOH_tabular_imaging_reordered.csv'\n",
    "    test_name = 'cardiac_features_test_imputed_noOH_tabular_imaging_reordered.csv'\n",
    "    for name, seed, split in zip([train_name, val_name, test_name], [2021,2022,2023], ['train', 'val', 'test']):\n",
    "        save_mask_path = join(MASK_PATH, f'{name[:-4]}_{target}_{missing_strategy}_{missing_rate}.npy')\n",
    "        path = join(FEATURES, name)\n",
    "        # print(path)\n",
    "        create_missing_mask(path, save_mask_path, seed, missing_strategy, missing_rate)\n",
    "\n",
    "    balanced_train_name = f'cardiac_features_train_imputed_noOH_tabular_imaging_{target}_balanced_reordered.csv'\n",
    "    balanced_path = join(FEATURES, balanced_train_name)\n",
    "    balanced_save_mask_path = join(MASK_PATH, f'{balanced_train_name[:-4]}_{target}_{missing_strategy}_{missing_rate}.npy')\n",
    "    create_missing_mask(balanced_path, balanced_save_mask_path, 2021, missing_strategy, missing_rate)\n"
   ]
  },
  {
   "cell_type": "code",
   "execution_count": 5,
   "metadata": {},
   "outputs": [
    {
     "name": "stdout",
     "output_type": "stream",
     "text": [
      "data tabular shape: (26040, 75)\n",
      "Real missing rate: 0.0\n",
      "Save missing mask to /bigdata/siyi/data/UKBB/cardiac_segmentations/projects/SelfSuperBio/18545/final/missing_mask/cardiac_features_train_imputed_noOH_tabular_imaging_reordered_CAD_feature_0.0.npy\n",
      "data tabular shape: (6510, 75)\n",
      "Real missing rate: 0.0\n",
      "Save missing mask to /bigdata/siyi/data/UKBB/cardiac_segmentations/projects/SelfSuperBio/18545/final/missing_mask/cardiac_features_val_imputed_noOH_tabular_imaging_reordered_CAD_feature_0.0.npy\n",
      "data tabular shape: (3617, 75)\n",
      "Real missing rate: 0.0\n",
      "Save missing mask to /bigdata/siyi/data/UKBB/cardiac_segmentations/projects/SelfSuperBio/18545/final/missing_mask/cardiac_features_test_imputed_noOH_tabular_imaging_reordered_CAD_feature_0.0.npy\n",
      "data tabular shape: (3482, 75)\n",
      "Real missing rate: 0.0\n",
      "Save missing mask to /bigdata/siyi/data/UKBB/cardiac_segmentations/projects/SelfSuperBio/18545/final/missing_mask/cardiac_features_train_imputed_noOH_tabular_imaging_CAD_balanced_reordered_CAD_feature_0.0.npy\n",
      "data tabular shape: (26040, 75)\n",
      "Real missing rate: 0.0\n",
      "Save missing mask to /bigdata/siyi/data/UKBB/cardiac_segmentations/projects/SelfSuperBio/18545/final/missing_mask/cardiac_features_train_imputed_noOH_tabular_imaging_reordered_Infarction_feature_0.0.npy\n",
      "data tabular shape: (6510, 75)\n",
      "Real missing rate: 0.0\n",
      "Save missing mask to /bigdata/siyi/data/UKBB/cardiac_segmentations/projects/SelfSuperBio/18545/final/missing_mask/cardiac_features_val_imputed_noOH_tabular_imaging_reordered_Infarction_feature_0.0.npy\n",
      "data tabular shape: (3617, 75)\n",
      "Real missing rate: 0.0\n",
      "Save missing mask to /bigdata/siyi/data/UKBB/cardiac_segmentations/projects/SelfSuperBio/18545/final/missing_mask/cardiac_features_test_imputed_noOH_tabular_imaging_reordered_Infarction_feature_0.0.npy\n",
      "data tabular shape: (1552, 75)\n",
      "Real missing rate: 0.0\n",
      "Save missing mask to /bigdata/siyi/data/UKBB/cardiac_segmentations/projects/SelfSuperBio/18545/final/missing_mask/cardiac_features_train_imputed_noOH_tabular_imaging_Infarction_balanced_reordered_Infarction_feature_0.0.npy\n"
     ]
    }
   ],
   "source": [
    "missing_strategy = 'feature'\n",
    "\n",
    "for target in ['CAD', 'Infarction']:\n",
    "    train_name = 'cardiac_features_train_imputed_noOH_tabular_imaging_reordered.csv'\n",
    "    val_name = 'cardiac_features_val_imputed_noOH_tabular_imaging_reordered.csv'\n",
    "    test_name = 'cardiac_features_test_imputed_noOH_tabular_imaging_reordered.csv'\n",
    "    for name, seed, split in zip([train_name, val_name, test_name], [2022,2022,2022], ['train', 'val', 'test']):\n",
    "        save_mask_path = join(MASK_PATH, f'{name[:-4]}_{target}_{missing_strategy}_{missing_rate}.npy')\n",
    "        path = join(FEATURES, name)\n",
    "        # print(path)\n",
    "        create_missing_mask(path, save_mask_path, seed, missing_strategy, missing_rate)\n",
    "    balanced_train_name = f'cardiac_features_train_imputed_noOH_tabular_imaging_{target}_balanced_reordered.csv'\n",
    "    balanced_path = join(FEATURES, balanced_train_name)\n",
    "    balanced_save_mask_path = join(MASK_PATH, f'{balanced_train_name[:-4]}_{target}_{missing_strategy}_{missing_rate}.npy')\n",
    "    create_missing_mask(balanced_path, balanced_save_mask_path, 2022, missing_strategy, missing_rate)\n"
   ]
  },
  {
   "cell_type": "code",
   "execution_count": 6,
   "metadata": {},
   "outputs": [
    {
     "name": "stdout",
     "output_type": "stream",
     "text": [
      "[False  True False  True  True False  True  True False  True False False\n",
      " False False False False False False False False False False  True False\n",
      " False  True False False False False False False False False  True  True\n",
      "  True False False False False False  True False False False  True  True\n",
      " False False False False False False False False  True False False False\n",
      " False False False False False  True False False  True False  True  True\n",
      "  True  True  True]\n",
      "[False  True False  True  True False  True  True False  True False False\n",
      " False False False False False False False False False False  True False\n",
      " False  True False False False False False False False False  True  True\n",
      "  True False False False False False  True False False False  True  True\n",
      " False False False False False False False False  True False False False\n",
      " False False False False False  True False False  True False  True  True\n",
      "  True  True  True]\n",
      "[False  True False  True  True False  True  True False  True False False\n",
      " False False False False False False False False False False  True False\n",
      " False  True False False False False False False False False  True  True\n",
      "  True False False False False False  True False False False  True  True\n",
      " False False False False False False False False  True False False False\n",
      " False False False False False  True False False  True False  True  True\n",
      "  True  True  True]\n"
     ]
    }
   ],
   "source": [
    "# Check\n",
    "train_np = np.load(join(MASK_PATH, f'{train_name[:-4]}_CAD_feature_0.3.npy'))\n",
    "val_np = np.load(join(MASK_PATH, f'{val_name[:-4]}_CAD_feature_0.3.npy'))\n",
    "test_np = np.load(join(MASK_PATH, f'{test_name[:-4]}_CAD_feature_0.3.npy'))\n",
    "print(train_np[0])\n",
    "print(val_np[0])\n",
    "print(test_np[0])"
   ]
  },
  {
   "cell_type": "markdown",
   "metadata": {},
   "source": [
    "#### Mask based on importance"
   ]
  },
  {
   "cell_type": "code",
   "execution_count": 15,
   "metadata": {},
   "outputs": [
    {
     "name": "stdout",
     "output_type": "stream",
     "text": [
      "AUC on test dataset: 0.8547195217018755\n"
     ]
    }
   ],
   "source": [
    "target = 'CAD'\n",
    "rf = RandomForestClassifier(random_state=2022)\n",
    "# imbalanced\n",
    "# X_train = pd.read_csv(join(FEATURES, 'cardiac_features_train_imputed_noOH_tabular_imaging_reordered.csv'), header=None)\n",
    "# X_test = pd.read_csv(join(FEATURES, f'cardiac_features_test_imputed_noOH_tabular_imaging_reordered.csv'), header=None)\n",
    "# y_train = torch.load(join(FEATURES, f'cardiac_labels_{target}_train.pt'))\n",
    "# y_test = torch.load(join(FEATURES, f'cardiac_labels_{target}_test.pt'))\n",
    "\n",
    "# balanced\n",
    "X_train = pd.read_csv(join(FEATURES, f'cardiac_features_train_imputed_noOH_tabular_imaging_{target}_balanced_reordered.csv'), header=None)\n",
    "X_test = pd.read_csv(join(FEATURES, f'cardiac_features_test_imputed_noOH_tabular_imaging_reordered.csv'), header=None)\n",
    "y_train = torch.load(join(FEATURES, f'cardiac_labels_{target}_train_balanced.pt'))\n",
    "y_test = torch.load(join(FEATURES, f'cardiac_labels_{target}_test.pt'))\n",
    "rf.fit(X_train, y_train)\n",
    "# Predict probabilities for the test dataset\n",
    "y_pred_proba = rf.predict_proba(X_test)[:, 1]\n",
    "\n",
    "# Calculate AUC\n",
    "auc = roc_auc_score(y_test, y_pred_proba)\n",
    "\n",
    "print(f\"AUC on test dataset: {auc}\")\n"
   ]
  },
  {
   "cell_type": "code",
   "execution_count": 16,
   "metadata": {},
   "outputs": [
    {
     "name": "stdout",
     "output_type": "stream",
     "text": [
      "Index(['Cholesterol lowering medication regularly taken',\n",
      "       'Blood pressure medication regularly taken',\n",
      "       'Angina diagnosed by doctor', 'LVM (g)', 'Waist circumference-2.0',\n",
      "       'Diastolic blood pressure-2.mean', 'Body mass index (BMI)-2.0',\n",
      "       'Pulse rate-2.mean', 'Systolic blood pressure-2.mean', 'LVEF (%)',\n",
      "       'Body fat percentage-2.0', 'RVSV (mL)',\n",
      "       'Long-standing illness, disability or infirmity-2.0', 'Weight-2.0',\n",
      "       'Cardiac index-2.0', 'P duration-2.0', 'LVESV (mL)',\n",
      "       'Pulse wave Arterial Stiffness index-2.0', 'LVEDV (mL)',\n",
      "       'Basal metabolic rate-2.0', 'QRS duration-2.0', 'RVEDV (mL)',\n",
      "       'RVEF (%)', 'Central augmentation pressure during PWA-2.0',\n",
      "       'Augmentation index for PWA-2.0', 'RVESV (mL)',\n",
      "       'Heart rate during PWA-2.0', 'LVSV (mL)', 'LVCO (L/min)',\n",
      "       'Whole body fat mass-2.0', 'End systolic pressure index during PWA-2.0',\n",
      "       'Cardiac output during PWA-2.0', 'Cardiac output-2.0',\n",
      "       'Average heart rate-2.0', 'Body surface area-2.0',\n",
      "       'Stroke volume during PWA-2.0',\n",
      "       'Diastolic brachial blood pressure during PWA-2.0',\n",
      "       'Ventricular rate-2.0',\n",
      "       'Systolic brachial blood pressure during PWA-2.0',\n",
      "       'Central pulse pressure during PWA-2.0', 'Cardiac index during PWA-2.0',\n",
      "       'End systolic pressure during PWA-2.0', 'Hip circumference-2.0',\n",
      "       'Central systolic blood pressure during PWA-2.0',\n",
      "       'Total peripheral resistance during PWA-2.0',\n",
      "       'High blood pressure diagnosed by doctor',\n",
      "       'Peripheral pulse pressure during PWA-2.0',\n",
      "       'Number of beats in waveform average for PWA-2.0',\n",
      "       'Duration of walks-2.0', 'Duration of moderate activity-2.0', 'Sex-0.0',\n",
      "       'Duration of vigorous activity-2.0', 'Alcohol intake frequency.-2.0',\n",
      "       'Overall health rating-2.0',\n",
      "       'Number of days/week of vigorous physical activity 10+ minutes-2.0',\n",
      "       'Number of days/week of moderate physical activity 10+ minutes-2.0',\n",
      "       'Sleep duration-2.0', 'Number of days/week walked 10+ minutes-2.0',\n",
      "       'Past tobacco smoking-2.0', 'Usual walking pace-2.0',\n",
      "       'Shortness of breath walking on level ground-2.0',\n",
      "       'Exposure to tobacco smoke outside home-2.0', 'Smoking status-2.0',\n",
      "       'Sleeplessness / insomnia-2.0', 'Duration of strenuous sports-2.0',\n",
      "       'Falls in the last year-2.0', 'Diabetes diagnosis',\n",
      "       'Exposure to tobacco smoke at home-2.0', 'Alcohol drinker status-2.0',\n",
      "       'Ever smoked-2.0', 'Current tobacco smoking-2.0',\n",
      "       'Stroke diagnosed by doctor',\n",
      "       'Hormone replacement therapy medication regularly taken',\n",
      "       'Insulin medication regularly taken',\n",
      "       'Oral contraceptive pill or minipill medication regularly taken'],\n",
      "      dtype='object')\n"
     ]
    }
   ],
   "source": [
    "data_df = pd.read_csv(join(dirname(FEATURES), f'cardiac_feature_18545_vector_labeled_noOH_dropNI_imputed.csv'),nrows=5)\n",
    "field_lengths_tabular = torch.load(join(dirname(FEATURES), 'tabular_lengths.pt'))\n",
    "categorical_ids = []\n",
    "continuous_ids = []\n",
    "for i in range(len(field_lengths_tabular)):\n",
    "    if field_lengths_tabular[i] == 1:\n",
    "        continuous_ids.append(i)\n",
    "    else:\n",
    "        categorical_ids.append(i)\n",
    "column_name = data_df.columns[1:]\n",
    "column_name = column_name[categorical_ids+continuous_ids]\n",
    "# print(column_name)\n",
    "\n",
    "# Get feature importances\n",
    "importances = rf.feature_importances_\n",
    "# Sort feature importances in descending order\n",
    "MI_indices = np.argsort(importances)[::-1]\n",
    "LI_indices = np.argsort(importances)\n",
    "# Get feature names\n",
    "MI_feature_name = column_name[MI_indices]\n",
    "print(MI_feature_name)"
   ]
  },
  {
   "cell_type": "code",
   "execution_count": 21,
   "metadata": {},
   "outputs": [
    {
     "name": "stdout",
     "output_type": "stream",
     "text": [
      "data tabular shape: (26040, 75)\n",
      "Real missing rate: 0.8933333333333333\n",
      "Save missing mask to /bigdata/siyi/data/UKBB/cardiac_segmentations/projects/SelfSuperBio/18545/final/missing_mask/cardiac_features_train_imputed_noOH_tabular_imaging_reordered_CAD_MI_0.9.npy\n",
      "data tabular shape: (6510, 75)\n",
      "Real missing rate: 0.8933333333333333\n",
      "Save missing mask to /bigdata/siyi/data/UKBB/cardiac_segmentations/projects/SelfSuperBio/18545/final/missing_mask/cardiac_features_val_imputed_noOH_tabular_imaging_reordered_CAD_MI_0.9.npy\n",
      "data tabular shape: (3617, 75)\n",
      "Real missing rate: 0.8933333333333333\n",
      "Save missing mask to /bigdata/siyi/data/UKBB/cardiac_segmentations/projects/SelfSuperBio/18545/final/missing_mask/cardiac_features_test_imputed_noOH_tabular_imaging_reordered_CAD_MI_0.9.npy\n",
      "data tabular shape: (3482, 75)\n",
      "Real missing rate: 0.8933333333333333\n",
      "Save missing mask to /bigdata/siyi/data/UKBB/cardiac_segmentations/projects/SelfSuperBio/18545/final/missing_mask/cardiac_features_train_imputed_noOH_tabular_imaging_CAD_balanced_reordered_CAD_MI_0.9.npy\n",
      "data tabular shape: (26040, 75)\n",
      "Real missing rate: 0.8933333333333333\n",
      "Save missing mask to /bigdata/siyi/data/UKBB/cardiac_segmentations/projects/SelfSuperBio/18545/final/missing_mask/cardiac_features_train_imputed_noOH_tabular_imaging_reordered_CAD_LI_0.9.npy\n",
      "data tabular shape: (6510, 75)\n",
      "Real missing rate: 0.8933333333333333\n",
      "Save missing mask to /bigdata/siyi/data/UKBB/cardiac_segmentations/projects/SelfSuperBio/18545/final/missing_mask/cardiac_features_val_imputed_noOH_tabular_imaging_reordered_CAD_LI_0.9.npy\n",
      "data tabular shape: (3617, 75)\n",
      "Real missing rate: 0.8933333333333333\n",
      "Save missing mask to /bigdata/siyi/data/UKBB/cardiac_segmentations/projects/SelfSuperBio/18545/final/missing_mask/cardiac_features_test_imputed_noOH_tabular_imaging_reordered_CAD_LI_0.9.npy\n",
      "data tabular shape: (3482, 75)\n",
      "Real missing rate: 0.8933333333333333\n",
      "Save missing mask to /bigdata/siyi/data/UKBB/cardiac_segmentations/projects/SelfSuperBio/18545/final/missing_mask/cardiac_features_train_imputed_noOH_tabular_imaging_CAD_balanced_reordered_CAD_LI_0.9.npy\n"
     ]
    }
   ],
   "source": [
    "missing_rate = 0.9\n",
    "missing_strategy = 'MI'\n",
    "\n",
    "train_name = 'cardiac_features_train_imputed_noOH_tabular_imaging_reordered.csv'\n",
    "val_name = 'cardiac_features_val_imputed_noOH_tabular_imaging_reordered.csv'\n",
    "test_name = 'cardiac_features_test_imputed_noOH_tabular_imaging_reordered.csv'\n",
    "for name, split in zip([train_name, val_name, test_name], ['train', 'val', 'test']):\n",
    "    save_mask_path = join(MASK_PATH, f'{name[:-4]}_{target}_{missing_strategy}_{missing_rate}.npy')\n",
    "    path = join(FEATURES, name)\n",
    "    # print(path)\n",
    "    create_certain_missing_mask(path, save_mask_path, MI_indices, missing_strategy, missing_rate)\n",
    "\n",
    "balanced_train_name = f'cardiac_features_train_imputed_noOH_tabular_imaging_{target}_balanced_reordered.csv'\n",
    "balanced_path = join(FEATURES, balanced_train_name)\n",
    "balanced_save_mask_path = join(MASK_PATH, f'{balanced_train_name[:-4]}_{target}_{missing_strategy}_{missing_rate}.npy')\n",
    "create_certain_missing_mask(balanced_path, balanced_save_mask_path, MI_indices, missing_strategy, missing_rate)\n",
    "\n",
    "missing_strategy = 'LI'\n",
    "train_name = 'cardiac_features_train_imputed_noOH_tabular_imaging_reordered.csv'\n",
    "val_name = 'cardiac_features_val_imputed_noOH_tabular_imaging_reordered.csv'\n",
    "test_name = 'cardiac_features_test_imputed_noOH_tabular_imaging_reordered.csv'\n",
    "for name, split in zip([train_name, val_name, test_name], ['train', 'val', 'test']):\n",
    "    save_mask_path = join(MASK_PATH, f'{name[:-4]}_{target}_{missing_strategy}_{missing_rate}.npy')\n",
    "    path = join(FEATURES, name)\n",
    "    # print(path)\n",
    "    create_certain_missing_mask(path, save_mask_path, LI_indices, missing_strategy, missing_rate)\n",
    "\n",
    "balanced_train_name = f'cardiac_features_train_imputed_noOH_tabular_imaging_{target}_balanced_reordered.csv'\n",
    "balanced_path = join(FEATURES, balanced_train_name)\n",
    "balanced_save_mask_path = join(MASK_PATH, f'{balanced_train_name[:-4]}_{target}_{missing_strategy}_{missing_rate}.npy')\n",
    "result = create_certain_missing_mask(balanced_path, balanced_save_mask_path, LI_indices, missing_strategy, missing_rate)"
   ]
  },
  {
   "cell_type": "code",
   "execution_count": 3,
   "metadata": {},
   "outputs": [
    {
     "name": "stdout",
     "output_type": "stream",
     "text": [
      "(array([ 0,  1,  3,  5,  6,  7, 11, 13, 14, 15, 17, 18, 19, 20, 21, 22, 24,\n",
      "       25, 26, 27, 28, 29, 30, 31, 32, 33, 34, 35, 36, 37, 38, 39, 40, 41,\n",
      "       42, 43, 44, 45, 46, 47, 48, 49, 50, 51, 52, 53, 54, 55, 56, 57, 58,\n",
      "       59, 60, 61, 62, 63, 64, 65, 66, 67, 68, 69, 70, 71, 72, 73, 74]),)\n",
      "(array([ 0,  1,  3,  5,  6,  7, 11, 13, 14, 15, 17, 18, 19, 20, 21, 22, 24,\n",
      "       25, 26, 27, 28, 29, 30, 31, 32, 33, 34, 35, 36, 37, 38, 39, 40, 41,\n",
      "       42, 43, 44, 45, 46, 47, 48, 49, 50, 51, 52, 53, 54, 55, 56, 57, 58,\n",
      "       59, 60, 61, 62, 63, 64, 65, 66, 67, 68, 69, 70, 71, 72, 73, 74]),)\n",
      "(array([ 0,  1,  3,  5,  6,  7, 11, 13, 14, 15, 17, 18, 19, 20, 21, 22, 24,\n",
      "       25, 26, 27, 28, 29, 30, 31, 32, 33, 34, 35, 36, 37, 38, 39, 40, 41,\n",
      "       42, 43, 44, 45, 46, 47, 48, 49, 50, 51, 52, 53, 54, 55, 56, 57, 58,\n",
      "       59, 60, 61, 62, 63, 64, 65, 66, 67, 68, 69, 70, 71, 72, 73, 74]),)\n"
     ]
    }
   ],
   "source": [
    "# Check train, val, test to miss the same columns\n",
    "train_np = np.load(join(MASK_PATH, 'cardiac_features_train_imputed_noOH_tabular_imaging_CAD_balanced_reordered_CAD_MI_0.9.npy'))\n",
    "val_np = np.load(join(MASK_PATH, 'cardiac_features_val_imputed_noOH_tabular_imaging_reordered_CAD_MI_0.9.npy'))\n",
    "test_np = np.load(join(MASK_PATH, 'cardiac_features_test_imputed_noOH_tabular_imaging_reordered_CAD_MI_0.9.npy'))\n",
    "print(np.where(train_np[0]))\n",
    "print(np.where(val_np[0]))\n",
    "print(np.where(test_np[0]))"
   ]
  },
  {
   "cell_type": "markdown",
   "metadata": {},
   "source": [
    "## DVM"
   ]
  },
  {
   "cell_type": "code",
   "execution_count": 4,
   "metadata": {},
   "outputs": [],
   "source": [
    "# TODO: change to your own path\n",
    "FEATURES = '/bigdata/siyi/data/DVM/features'\n",
    "MASK_PATH = join(FEATURES, 'missing_mask')"
   ]
  },
  {
   "cell_type": "markdown",
   "metadata": {},
   "source": [
    "#### Random mask"
   ]
  },
  {
   "cell_type": "code",
   "execution_count": 5,
   "metadata": {},
   "outputs": [
    {
     "name": "stdout",
     "output_type": "stream",
     "text": [
      "data tabular shape: (70565, 17)\n",
      "Real missing rate: 0.0\n",
      "Save missing mask to /bigdata/siyi/data/DVM/features/missing_mask/dvm_features_train_noOH_all_views_physical_jittered_50_reordered_dvm_value_0.0.npy\n",
      "data tabular shape: (17642, 17)\n",
      "Real missing rate: 0.0\n",
      "Save missing mask to /bigdata/siyi/data/DVM/features/missing_mask/dvm_features_val_noOH_all_views_physical_jittered_50_reordered_dvm_value_0.0.npy\n",
      "data tabular shape: (88207, 17)\n",
      "Real missing rate: 0.0\n",
      "Save missing mask to /bigdata/siyi/data/DVM/features/missing_mask/dvm_features_test_noOH_all_views_physical_jittered_50_reordered_dvm_value_0.0.npy\n"
     ]
    }
   ],
   "source": [
    "missing_strategy = 'value'\n",
    "missing_rate = 0.0\n",
    "target = 'dvm'\n",
    "\n",
    "train_name = 'dvm_features_train_noOH_all_views_physical_jittered_50_reordered.csv'\n",
    "val_name = 'dvm_features_val_noOH_all_views_physical_jittered_50_reordered.csv'\n",
    "test_name = 'dvm_features_test_noOH_all_views_physical_jittered_50_reordered.csv'\n",
    "for name, seed, split in zip([train_name, val_name, test_name], [2021,2022,2023], ['train', 'val', 'test']):\n",
    "    save_mask_path = join(MASK_PATH, f'{name[:-4]}_{target}_{missing_strategy}_{missing_rate}.npy')\n",
    "    path = join(FEATURES, name)\n",
    "    # print(path)\n",
    "    create_missing_mask(path, save_mask_path, seed, missing_strategy, missing_rate)"
   ]
  },
  {
   "cell_type": "code",
   "execution_count": 6,
   "metadata": {},
   "outputs": [
    {
     "name": "stdout",
     "output_type": "stream",
     "text": [
      "data tabular shape: (70565, 17)\n",
      "Real missing rate: 0.0\n",
      "Save missing mask to /bigdata/siyi/data/DVM/features/missing_mask/dvm_features_train_noOH_all_views_physical_jittered_50_reordered_dvm_feature_0.0.npy\n",
      "data tabular shape: (17642, 17)\n",
      "Real missing rate: 0.0\n",
      "Save missing mask to /bigdata/siyi/data/DVM/features/missing_mask/dvm_features_val_noOH_all_views_physical_jittered_50_reordered_dvm_feature_0.0.npy\n",
      "data tabular shape: (88207, 17)\n",
      "Real missing rate: 0.0\n",
      "Save missing mask to /bigdata/siyi/data/DVM/features/missing_mask/dvm_features_test_noOH_all_views_physical_jittered_50_reordered_dvm_feature_0.0.npy\n"
     ]
    }
   ],
   "source": [
    "missing_strategy = 'feature'\n",
    "\n",
    "train_name = 'dvm_features_train_noOH_all_views_physical_jittered_50_reordered.csv'\n",
    "val_name = 'dvm_features_val_noOH_all_views_physical_jittered_50_reordered.csv'\n",
    "test_name = 'dvm_features_test_noOH_all_views_physical_jittered_50_reordered.csv'\n",
    "for name, seed, split in zip([train_name, val_name, test_name], [2022,2022,2022], ['train', 'val', 'test']):\n",
    "    save_mask_path = join(MASK_PATH, f'{name[:-4]}_{target}_{missing_strategy}_{missing_rate}.npy')\n",
    "    path = join(FEATURES, name)\n",
    "    # print(path)\n",
    "    create_missing_mask(path, save_mask_path, seed, missing_strategy, missing_rate)"
   ]
  },
  {
   "cell_type": "code",
   "execution_count": 57,
   "metadata": {},
   "outputs": [
    {
     "name": "stdout",
     "output_type": "stream",
     "text": [
      "[False False False  True  True False  True False False  True False  True\n",
      " False False False False False]\n",
      "[False False False  True  True False  True False False  True False  True\n",
      " False False False False False]\n",
      "[False False False  True  True False  True False False  True False  True\n",
      " False False False False False]\n"
     ]
    }
   ],
   "source": [
    "# Check train, val, test to miss the same columns\n",
    "train_np = np.load(join(MASK_PATH, f'{train_name[:-4]}_dvm_feature_0.3.npy'))\n",
    "val_np = np.load(join(MASK_PATH, f'{val_name[:-4]}_dvm_feature_0.3.npy'))\n",
    "test_np = np.load(join(MASK_PATH, f'{test_name[:-4]}_dvm_feature_0.3.npy'))\n",
    "print(train_np[0])\n",
    "print(val_np[0])\n",
    "print(test_np[0])"
   ]
  },
  {
   "cell_type": "markdown",
   "metadata": {},
   "source": [
    "#### Mask based on importance"
   ]
  },
  {
   "cell_type": "code",
   "execution_count": 58,
   "metadata": {},
   "outputs": [
    {
     "name": "stdout",
     "output_type": "stream",
     "text": [
      "Accuracy on test dataset: 0.985273277631027\n"
     ]
    }
   ],
   "source": [
    "from sklearn.metrics import accuracy_score\n",
    "rf = RandomForestClassifier(random_state=2022)\n",
    "X_train = pd.read_csv(join(FEATURES, 'dvm_features_train_noOH_all_views_physical_jittered_50_reordered.csv'), header=None)\n",
    "X_test = pd.read_csv(join(FEATURES, f'dvm_features_test_noOH_all_views_physical_jittered_50_reordered.csv'), header=None)\n",
    "y_train = torch.load(join(FEATURES, 'labels_model_all_train_all_views.pt'))\n",
    "y_test = torch.load(join(FEATURES, 'labels_model_all_test_all_views.pt'))\n",
    "rf.fit(X_train, y_train)\n",
    "\n",
    "# Predict classes for the test dataset\n",
    "y_pred = rf.predict(X_test)\n",
    "\n",
    "# Calculate accuracy\n",
    "accuracy = accuracy_score(y_test, y_pred)\n",
    "\n",
    "print(f\"Accuracy on test dataset: {accuracy}\")"
   ]
  },
  {
   "cell_type": "code",
   "execution_count": 59,
   "metadata": {},
   "outputs": [
    {
     "name": "stdout",
     "output_type": "stream",
     "text": [
      "['Entry_price', 'Length', 'Width', 'Wheelbase', 'Engine_size', 'Height', 'Reg_year', 'Price', 'Bodytype', 'Runned_Miles', 'Seat_num', 'Door_num', 'Adv_month', 'Fuel_type', 'Color', 'Gearbox', 'Adv_year']\n"
     ]
    }
   ],
   "source": [
    "reordered_column_name = ['Color', 'Bodytype', 'Gearbox','Fuel_type' ,\n",
    "               'Wheelbase', 'Height', 'Width', 'Length', 'Adv_year', 'Adv_month',\n",
    "       'Reg_year', 'Runned_Miles', 'Price', 'Seat_num', 'Door_num',\n",
    "       'Entry_price', 'Engine_size']\n",
    "\n",
    "# Get feature importances\n",
    "importances = rf.feature_importances_\n",
    "# Sort feature importances in descending order\n",
    "MI_indices = np.argsort(importances)[::-1]\n",
    "LI_indices = np.argsort(importances)\n",
    "# Get feature names\n",
    "MI_feature_name = [reordered_column_name[x] for x in MI_indices]\n",
    "print(MI_feature_name)"
   ]
  },
  {
   "cell_type": "code",
   "execution_count": 64,
   "metadata": {},
   "outputs": [
    {
     "name": "stdout",
     "output_type": "stream",
     "text": [
      "data tabular shape: (70565, 17)\n",
      "Real missing rate: 0.058823529411764705\n",
      "Save missing mask to /bigdata/siyi/data/DVM/features/missing_mask/dvm_features_train_noOH_all_views_physical_jittered_50_reordered_dvm_MI_0.1.npy\n",
      "data tabular shape: (17642, 17)\n",
      "Real missing rate: 0.058823529411764705\n",
      "Save missing mask to /bigdata/siyi/data/DVM/features/missing_mask/dvm_features_val_noOH_all_views_physical_jittered_50_reordered_dvm_MI_0.1.npy\n",
      "data tabular shape: (88207, 17)\n",
      "Real missing rate: 0.058823529411764705\n",
      "Save missing mask to /bigdata/siyi/data/DVM/features/missing_mask/dvm_features_test_noOH_all_views_physical_jittered_50_reordered_dvm_MI_0.1.npy\n",
      "data tabular shape: (70565, 17)\n",
      "Real missing rate: 0.058823529411764705\n",
      "Save missing mask to /bigdata/siyi/data/DVM/features/missing_mask/dvm_features_train_noOH_all_views_physical_jittered_50_reordered_dvm_LI_0.1.npy\n",
      "data tabular shape: (17642, 17)\n",
      "Real missing rate: 0.058823529411764705\n",
      "Save missing mask to /bigdata/siyi/data/DVM/features/missing_mask/dvm_features_val_noOH_all_views_physical_jittered_50_reordered_dvm_LI_0.1.npy\n",
      "data tabular shape: (88207, 17)\n",
      "Real missing rate: 0.058823529411764705\n",
      "Save missing mask to /bigdata/siyi/data/DVM/features/missing_mask/dvm_features_test_noOH_all_views_physical_jittered_50_reordered_dvm_LI_0.1.npy\n"
     ]
    }
   ],
   "source": [
    "missing_rate = 0.1\n",
    "\n",
    "missing_strategy = 'MI'\n",
    "train_name = 'dvm_features_train_noOH_all_views_physical_jittered_50_reordered.csv'\n",
    "val_name = 'dvm_features_val_noOH_all_views_physical_jittered_50_reordered.csv'\n",
    "test_name = 'dvm_features_test_noOH_all_views_physical_jittered_50_reordered.csv'\n",
    "for name, split in zip([train_name, val_name, test_name], ['train', 'val', 'test']):\n",
    "    save_mask_path = join(MASK_PATH, f'{name[:-4]}_{target}_{missing_strategy}_{missing_rate}.npy')\n",
    "    path = join(FEATURES, name)\n",
    "    create_certain_missing_mask(path, save_mask_path, MI_indices, missing_strategy, missing_rate)\n",
    "\n",
    "missing_strategy = 'LI'\n",
    "train_name = 'dvm_features_train_noOH_all_views_physical_jittered_50_reordered.csv'\n",
    "val_name = 'dvm_features_val_noOH_all_views_physical_jittered_50_reordered.csv'\n",
    "test_name = 'dvm_features_test_noOH_all_views_physical_jittered_50_reordered.csv'\n",
    "for name, split in zip([train_name, val_name, test_name], ['train', 'val', 'test']):\n",
    "    save_mask_path = join(MASK_PATH, f'{name[:-4]}_{target}_{missing_strategy}_{missing_rate}.npy')\n",
    "    path = join(FEATURES, name)\n",
    "    create_certain_missing_mask(path, save_mask_path, LI_indices, missing_strategy, missing_rate)"
   ]
  },
  {
   "cell_type": "code",
   "execution_count": 65,
   "metadata": {},
   "outputs": [
    {
     "name": "stdout",
     "output_type": "stream",
     "text": [
      "[False False False False  True False  True  True False False False False\n",
      " False False False  True  True]\n",
      "[False False False False  True False  True  True False False False False\n",
      " False False False  True  True]\n",
      "[False False False False  True False  True  True False False False False\n",
      " False False False  True  True]\n"
     ]
    }
   ],
   "source": [
    "train_np = np.load(join(MASK_PATH, f'{train_name[:-4]}_dvm_MI_0.3.npy'))\n",
    "val_np = np.load(join(MASK_PATH, f'{val_name[:-4]}_dvm_MI_0.3.npy'))\n",
    "test_np = np.load(join(MASK_PATH, f'{test_name[:-4]}_dvm_MI_0.3.npy'))\n",
    "print(train_np[0])\n",
    "print(val_np[0])\n",
    "print(test_np[0])"
   ]
  }
 ],
 "metadata": {
  "kernelspec": {
   "display_name": "selfsuper",
   "language": "python",
   "name": "python3"
  },
  "language_info": {
   "codemirror_mode": {
    "name": "ipython",
    "version": 3
   },
   "file_extension": ".py",
   "mimetype": "text/x-python",
   "name": "python",
   "nbconvert_exporter": "python",
   "pygments_lexer": "ipython3",
   "version": "3.9.15"
  }
 },
 "nbformat": 4,
 "nbformat_minor": 2
}

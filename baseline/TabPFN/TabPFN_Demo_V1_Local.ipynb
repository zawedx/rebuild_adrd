{
  "cells": [
    {
      "cell_type": "markdown",
      "metadata": {
        "id": "tisgLOuqzrfo"
      },
      "source": [
        "# Introduction\n",
        "\n",
        "Welcome to the hands-on Colab notebook for TabPFN!\n",
        "This code shows how to locally (with GPU support) install and run TabPFN. For fast inference with additional features use **[TabPFN client](https://tinyurl.com/tabpfn-colab-online)**.\n",
        "\n",
        "**Installation**\n",
        "* First, copy the notebook to be able to modify it.\n",
        "* Then, run the cells in the installation block, this should\n",
        "be good enough!\n",
        "\n",
        "---\n",
        "\n",
        "> 🔵 **Hint** <br>\n",
        "We recommend first enabling the **Table of Contents** with the `☰` icon in the top left and collapsing all sections by selecting all cells `Ctrl + Shift + A` and then pressing `Ctrl + ]`.\n",
        "\n",
        "---\n",
        "\n",
        "Thank you to [Lennart Purucker](https://github.com/LennartPurucker) for providing the original version of this notebook!"
      ]
    },
    {
      "cell_type": "markdown",
      "metadata": {
        "id": "o03aOVAw0Etg"
      },
      "source": [
        "# Installation\n",
        "\n",
        "Restart your runtime and rerun the *cell*, if Colab asks for it."
      ]
    },
    {
      "cell_type": "code",
      "execution_count": 6,
      "metadata": {
        "colab": {
          "base_uri": "https://localhost:8080/"
        },
        "id": "agAt8X7T0N6P",
        "outputId": "0d628e07-dcaf-4021-a1b1-8d176e82fea6"
      },
      "outputs": [],
      "source": [
        "# # Install sklearn\n",
        "# !pip install scikit-learn==1.5.2\n",
        "\n",
        "# # Install TabPFN\n",
        "# !pip install tabpfn\n",
        "\n",
        "# # TabPFN Community installs optional functionalities around the TabPFN model\n",
        "# # These include post-hoc ensembles, interpretability tools, and more\n",
        "# !git clone https://github.com/PriorLabs/tabpfn-community\n",
        "# !pip install -e tabpfn-community[post_hoc_ensembles,interpretability,hpo]\n",
        "\n",
        "# # Install Baselines\n",
        "# !pip install catboost xgboost\n",
        "\n",
        "# # Install example datasets\n",
        "# !pip install datasets"
      ]
    },
    {
      "cell_type": "code",
      "execution_count": 7,
      "metadata": {
        "colab": {
          "background_save": true,
          "base_uri": "https://localhost:8080/"
        },
        "id": "z6CMMm3m97Vx",
        "outputId": "3b68e3a3-35ed-490c-99d5-a2f33d63db28"
      },
      "outputs": [
        {
          "name": "stdout",
          "output_type": "stream",
          "text": [
            "fatal: destination path 'tabpfn-extensions' already exists and is not an empty directory.\n",
            "Looking in indexes: https://repo.huaweicloud.com/repository/pypi/simple\n",
            "Obtaining file:///output/NEW/rebuild_adrd/baseline/TabPFN/tabpfn-extensions\n",
            "  Installing build dependencies ... \u001b[?25ldone\n",
            "\u001b[?25h  Checking if build backend supports build_editable ... \u001b[?25ldone\n",
            "\u001b[?25h  Getting requirements to build editable ... \u001b[?25ldone\n",
            "\u001b[?25h  Preparing editable metadata (pyproject.toml) ... \u001b[?25ldone\n",
            "\u001b[?25hRequirement already satisfied: seaborn==0.12.2 in /usr/local/envs/LMTDE/lib/python3.11/site-packages (from tabpfn-extensions==0.0.4) (0.12.2)\n",
            "Requirement already satisfied: numpy in /usr/local/envs/LMTDE/lib/python3.11/site-packages (from tabpfn-extensions==0.0.4) (1.26.4)\n",
            "Requirement already satisfied: torch in /usr/local/envs/LMTDE/lib/python3.11/site-packages (from tabpfn-extensions==0.0.4) (2.5.1)\n",
            "Requirement already satisfied: pandas in /usr/local/envs/LMTDE/lib/python3.11/site-packages (from tabpfn-extensions==0.0.4) (2.2.3)\n",
            "Requirement already satisfied: scikit-learn in /usr/local/envs/LMTDE/lib/python3.11/site-packages (from tabpfn-extensions==0.0.4) (1.5.2)\n",
            "Requirement already satisfied: scipy in /usr/local/envs/LMTDE/lib/python3.11/site-packages (from tabpfn-extensions==0.0.4) (1.14.1)\n",
            "Requirement already satisfied: matplotlib!=3.6.1,>=3.1 in /usr/local/envs/LMTDE/lib/python3.11/site-packages (from seaborn==0.12.2->tabpfn-extensions==0.0.4) (3.10.0)\n",
            "Requirement already satisfied: shap in /usr/local/envs/LMTDE/lib/python3.11/site-packages (from tabpfn-extensions==0.0.4) (0.46.0)\n",
            "Requirement already satisfied: shapiq in /usr/local/envs/LMTDE/lib/python3.11/site-packages (from tabpfn-extensions==0.0.4) (1.2.1)\n",
            "Requirement already satisfied: kditransform>=0.2.0 in /usr/local/envs/LMTDE/lib/python3.11/site-packages (from tabpfn-extensions==0.0.4) (0.2.0)\n",
            "Requirement already satisfied: hyperopt in /usr/local/envs/LMTDE/lib/python3.11/site-packages (from tabpfn-extensions==0.0.4) (0.2.7)\n",
            "Requirement already satisfied: numba>=0.48 in /usr/local/envs/LMTDE/lib/python3.11/site-packages (from kditransform>=0.2.0->tabpfn-extensions==0.0.4) (0.61.0)\n",
            "Requirement already satisfied: python-dateutil>=2.8.2 in /usr/local/envs/LMTDE/lib/python3.11/site-packages (from pandas->tabpfn-extensions==0.0.4) (2.9.0.post0)\n",
            "Requirement already satisfied: pytz>=2020.1 in /usr/local/envs/LMTDE/lib/python3.11/site-packages (from pandas->tabpfn-extensions==0.0.4) (2024.1)\n",
            "Requirement already satisfied: tzdata>=2022.7 in /usr/local/envs/LMTDE/lib/python3.11/site-packages (from pandas->tabpfn-extensions==0.0.4) (2024.2)\n",
            "Requirement already satisfied: joblib>=1.2.0 in /usr/local/envs/LMTDE/lib/python3.11/site-packages (from scikit-learn->tabpfn-extensions==0.0.4) (1.4.2)\n",
            "Requirement already satisfied: threadpoolctl>=3.1.0 in /usr/local/envs/LMTDE/lib/python3.11/site-packages (from scikit-learn->tabpfn-extensions==0.0.4) (3.5.0)\n",
            "Requirement already satisfied: six in /usr/local/envs/LMTDE/lib/python3.11/site-packages (from hyperopt->tabpfn-extensions==0.0.4) (1.17.0)\n",
            "Requirement already satisfied: networkx>=2.2 in /usr/local/envs/LMTDE/lib/python3.11/site-packages (from hyperopt->tabpfn-extensions==0.0.4) (3.2.1)\n",
            "Requirement already satisfied: future in /usr/local/envs/LMTDE/lib/python3.11/site-packages (from hyperopt->tabpfn-extensions==0.0.4) (1.0.0)\n",
            "Requirement already satisfied: tqdm in /usr/local/envs/LMTDE/lib/python3.11/site-packages (from hyperopt->tabpfn-extensions==0.0.4) (4.67.1)\n",
            "Requirement already satisfied: cloudpickle in /usr/local/envs/LMTDE/lib/python3.11/site-packages (from hyperopt->tabpfn-extensions==0.0.4) (3.1.1)\n",
            "Requirement already satisfied: py4j in /usr/local/envs/LMTDE/lib/python3.11/site-packages (from hyperopt->tabpfn-extensions==0.0.4) (0.10.9.9)\n",
            "Requirement already satisfied: packaging>20.9 in /usr/local/envs/LMTDE/lib/python3.11/site-packages (from shap->tabpfn-extensions==0.0.4) (24.2)\n",
            "Requirement already satisfied: slicer==0.0.8 in /usr/local/envs/LMTDE/lib/python3.11/site-packages (from shap->tabpfn-extensions==0.0.4) (0.0.8)\n",
            "Requirement already satisfied: requests in /usr/local/envs/LMTDE/lib/python3.11/site-packages (from shapiq->tabpfn-extensions==0.0.4) (2.32.3)\n",
            "Requirement already satisfied: colour in /usr/local/envs/LMTDE/lib/python3.11/site-packages (from shapiq->tabpfn-extensions==0.0.4) (0.1.5)\n",
            "Requirement already satisfied: filelock in /usr/local/envs/LMTDE/lib/python3.11/site-packages (from torch->tabpfn-extensions==0.0.4) (3.13.1)\n",
            "Requirement already satisfied: typing-extensions>=4.8.0 in /usr/local/envs/LMTDE/lib/python3.11/site-packages (from torch->tabpfn-extensions==0.0.4) (4.12.2)\n",
            "Requirement already satisfied: sympy==1.13.1 in /usr/local/envs/LMTDE/lib/python3.11/site-packages (from torch->tabpfn-extensions==0.0.4) (1.13.1)\n",
            "Requirement already satisfied: jinja2 in /usr/local/envs/LMTDE/lib/python3.11/site-packages (from torch->tabpfn-extensions==0.0.4) (3.1.4)\n",
            "Requirement already satisfied: fsspec in /usr/local/envs/LMTDE/lib/python3.11/site-packages (from torch->tabpfn-extensions==0.0.4) (2024.12.0)\n",
            "Requirement already satisfied: mpmath<1.4,>=1.1.0 in /usr/local/envs/LMTDE/lib/python3.11/site-packages (from sympy==1.13.1->torch->tabpfn-extensions==0.0.4) (1.3.0)\n",
            "Requirement already satisfied: contourpy>=1.0.1 in /usr/local/envs/LMTDE/lib/python3.11/site-packages (from matplotlib!=3.6.1,>=3.1->seaborn==0.12.2->tabpfn-extensions==0.0.4) (1.3.1)\n",
            "Requirement already satisfied: cycler>=0.10 in /usr/local/envs/LMTDE/lib/python3.11/site-packages (from matplotlib!=3.6.1,>=3.1->seaborn==0.12.2->tabpfn-extensions==0.0.4) (0.12.1)\n",
            "Requirement already satisfied: fonttools>=4.22.0 in /usr/local/envs/LMTDE/lib/python3.11/site-packages (from matplotlib!=3.6.1,>=3.1->seaborn==0.12.2->tabpfn-extensions==0.0.4) (4.56.0)\n",
            "Requirement already satisfied: kiwisolver>=1.3.1 in /usr/local/envs/LMTDE/lib/python3.11/site-packages (from matplotlib!=3.6.1,>=3.1->seaborn==0.12.2->tabpfn-extensions==0.0.4) (1.4.8)\n",
            "Requirement already satisfied: pillow>=8 in /usr/local/envs/LMTDE/lib/python3.11/site-packages (from matplotlib!=3.6.1,>=3.1->seaborn==0.12.2->tabpfn-extensions==0.0.4) (9.2.0)\n",
            "Requirement already satisfied: pyparsing>=2.3.1 in /usr/local/envs/LMTDE/lib/python3.11/site-packages (from matplotlib!=3.6.1,>=3.1->seaborn==0.12.2->tabpfn-extensions==0.0.4) (3.2.1)\n",
            "Requirement already satisfied: llvmlite<0.45,>=0.44.0dev0 in /usr/local/envs/LMTDE/lib/python3.11/site-packages (from numba>=0.48->kditransform>=0.2.0->tabpfn-extensions==0.0.4) (0.44.0)\n",
            "Requirement already satisfied: MarkupSafe>=2.0 in /usr/local/envs/LMTDE/lib/python3.11/site-packages (from jinja2->torch->tabpfn-extensions==0.0.4) (2.1.3)\n",
            "Requirement already satisfied: charset-normalizer<4,>=2 in /usr/local/envs/LMTDE/lib/python3.11/site-packages (from requests->shapiq->tabpfn-extensions==0.0.4) (3.3.2)\n",
            "Requirement already satisfied: idna<4,>=2.5 in /usr/local/envs/LMTDE/lib/python3.11/site-packages (from requests->shapiq->tabpfn-extensions==0.0.4) (3.7)\n",
            "Requirement already satisfied: urllib3<3,>=1.21.1 in /usr/local/envs/LMTDE/lib/python3.11/site-packages (from requests->shapiq->tabpfn-extensions==0.0.4) (2.2.3)\n",
            "Requirement already satisfied: certifi>=2017.4.17 in /usr/local/envs/LMTDE/lib/python3.11/site-packages (from requests->shapiq->tabpfn-extensions==0.0.4) (2025.1.31)\n",
            "Building wheels for collected packages: tabpfn-extensions\n",
            "  Building editable for tabpfn-extensions (pyproject.toml) ... \u001b[?25ldone\n",
            "\u001b[?25h  Created wheel for tabpfn-extensions: filename=tabpfn_extensions-0.0.4-0.editable-py3-none-any.whl size=11302 sha256=1978dca6250930da218760a52b4db8d2480db4040e0bda3962edc6df2683c8d1\n",
            "  Stored in directory: /tmp/pip-ephem-wheel-cache-_8gg4omw/wheels/cf/3a/07/12e4246cb881ab2f08f822fe9ada1b87ea2cf7f9bafcb19019\n",
            "Successfully built tabpfn-extensions\n",
            "Installing collected packages: tabpfn-extensions\n",
            "  Attempting uninstall: tabpfn-extensions\n",
            "    Found existing installation: tabpfn-extensions 0.0.4\n",
            "    Uninstalling tabpfn-extensions-0.0.4:\n",
            "      Successfully uninstalled tabpfn-extensions-0.0.4\n",
            "Successfully installed tabpfn-extensions-0.0.4\n",
            "\u001b[33mWARNING: Running pip as the 'root' user can result in broken permissions and conflicting behaviour with the system package manager, possibly rendering your system unusable.It is recommended to use a virtual environment instead: https://pip.pypa.io/warnings/venv. Use the --root-user-action option if you know what you are doing and want to suppress this warning.\u001b[0m\u001b[33m\n",
            "\u001b[0m"
          ]
        }
      ],
      "source": [
        "!git clone https://github.com/PriorLabs/tabpfn-extensions\n",
        "!pip install -e tabpfn-extensions[post_hoc_ensembles,interpretability,hpo]\n"
      ]
    },
    {
      "cell_type": "markdown",
      "metadata": {
        "id": "p8RTKDLrJAAr"
      },
      "source": [
        "**Now Restart the Runtime**"
      ]
    },
    {
      "cell_type": "markdown",
      "metadata": {
        "id": "iro4vB3w4rgE"
      },
      "source": [
        "# Necessary Imports for the Notebook\n",
        "\n",
        "The examples in this notebook require the following imports.\n",
        "Make sure to run this cell before any other cell.\n",
        "\n",
        "\n"
      ]
    },
    {
      "cell_type": "markdown",
      "metadata": {
        "id": "pNaA6HvGoxsz"
      },
      "source": [
        "### In order to get the fastest predictions you need to enable GPUs for the notebook:\n",
        "* Navigate to Edit→Notebook Settings\n",
        "* select GPU from the Hardware Accelerator drop-down"
      ]
    },
    {
      "cell_type": "code",
      "execution_count": 2,
      "metadata": {
        "id": "fanTdoI22D8i"
      },
      "outputs": [],
      "source": [
        "import os\n",
        "\n",
        "# Setup Imports\n",
        "import pandas as pd\n",
        "import numpy as np\n",
        "\n",
        "from sklearn.datasets import load_breast_cancer, load_diabetes, load_iris\n",
        "from sklearn.model_selection import train_test_split\n",
        "from sklearn.model_selection import cross_val_score\n",
        "from sklearn.metrics import (\n",
        "    accuracy_score,\n",
        "    mean_absolute_error,\n",
        "    mean_squared_error,\n",
        "    root_mean_squared_error,\n",
        "    r2_score,\n",
        "    roc_auc_score,\n",
        ")\n",
        "from sklearn.model_selection import train_test_split\n",
        "\n",
        "import matplotlib.pyplot as plt\n",
        "from matplotlib.colors import ListedColormap\n",
        "from sklearn.inspection import DecisionBoundaryDisplay\n",
        "\n",
        "from sklearn.datasets import fetch_openml\n",
        "from sklearn.preprocessing import LabelEncoder\n",
        "from IPython.display import display, Markdown, Latex\n",
        "\n",
        "# Baseline Imports\n",
        "from xgboost import XGBClassifier, XGBRegressor\n",
        "from sklearn.ensemble import RandomForestClassifier, RandomForestRegressor\n",
        "from catboost import CatBoostClassifier, CatBoostRegressor\n",
        "\n",
        "import torch\n",
        "\n",
        "from tabpfn import TabPFNClassifier, TabPFNRegressor\n",
        "\n",
        "if not torch.cuda.is_available():\n",
        "    raise SystemError('GPU device not found. For fast training, please enable GPU. See section above for instructions.')"
      ]
    },
    {
      "cell_type": "markdown",
      "metadata": {
        "id": "c8iQ9KEd1h9R"
      },
      "source": [
        "# Predicting with TabPFN\n",
        "\n",
        "For our first example, we will use the client to predict on [toy data from scikit-learn](https://scikit-learn.org/stable/datasets/toy_dataset.html)."
      ]
    },
    {
      "cell_type": "markdown",
      "metadata": {
        "id": "FwxNk1ss2rM0"
      },
      "source": [
        "## Classification\n",
        "\n",
        "We now compare the classification performance of TabPFN, [XGBoost](https://xgboost.readthedocs.io/en/stable/), and [CatBoost](https://catboost.ai/) on the toy data from scikit-learn.\n",
        "\n",
        "We measure classification performance using [ROC AUC](https://scikit-learn.org/stable/modules/generated/sklearn.metrics.roc_auc_score.html). These toy datasets are simple to solve, so the ROC AUC will be very high."
      ]
    },
    {
      "cell_type": "code",
      "execution_count": null,
      "metadata": {
        "colab": {
          "base_uri": "https://localhost:8080/"
        },
        "id": "zTHzDedu3DKR",
        "outputId": "78ae9e3a-131c-4fd0-c62f-5d8f439ad2e3"
      },
      "outputs": [
        {
          "name": "stderr",
          "output_type": "stream",
          "text": [
            "/tmp/ipykernel_40460/790673353.py:84: SettingWithCopyWarning: \n",
            "A value is trying to be set on a copy of a slice from a DataFrame\n",
            "\n",
            "See the caveats in the documentation: https://pandas.pydata.org/pandas-docs/stable/user_guide/indexing.html#returning-a-view-versus-a-copy\n",
            "  X_train_subset.drop(columns=to_drop, inplace=True)\n",
            "ic| row_number: 3\n",
            "ic| _raise_fo: 'fit_transform'\n",
            "ic| _raise_fo: 'fit_transform'\n",
            "ic| _raise_fo: 'fit_transform'\n",
            "ic| _raise_fo: 'fit_transform'\n",
            "ic| _raise_fo: 'fit_transform'\n",
            "ic| _raise_fo: 'fit_transform'\n",
            "ic| _raise_fo: 'fit_transform'\n",
            "/tmp/ipykernel_40460/790673353.py:84: SettingWithCopyWarning: \n",
            "A value is trying to be set on a copy of a slice from a DataFrame\n",
            "\n",
            "See the caveats in the documentation: https://pandas.pydata.org/pandas-docs/stable/user_guide/indexing.html#returning-a-view-versus-a-copy\n",
            "  X_train_subset.drop(columns=to_drop, inplace=True)\n",
            "ic| row_number: 10\n",
            "ic| _raise_fo: 'fit_transform'\n"
          ]
        },
        {
          "name": "stdout",
          "output_type": "stream",
          "text": [
            "(664, 1)\n",
            "TabPFN [NC] ROC AUC: 0.5000 with 3 rows\n"
          ]
        },
        {
          "ename": "TypeError",
          "evalue": "Encoders require their input argument must be uniformly strings or numbers. Got ['NAType', 'str']",
          "output_type": "error",
          "traceback": [
            "\u001b[0;31m---------------------------------------------------------------------------\u001b[0m",
            "\u001b[0;31mTypeError\u001b[0m                                 Traceback (most recent call last)",
            "File \u001b[0;32m/usr/local/envs/LMTDE/lib/python3.11/site-packages/sklearn/utils/_encode.py:174\u001b[0m, in \u001b[0;36m_unique_python\u001b[0;34m(values, return_inverse, return_counts)\u001b[0m\n\u001b[1;32m    172\u001b[0m uniques_set, missing_values \u001b[38;5;241m=\u001b[39m _extract_missing(uniques_set)\n\u001b[0;32m--> 174\u001b[0m uniques \u001b[38;5;241m=\u001b[39m \u001b[38;5;28msorted\u001b[39m(uniques_set)\n\u001b[1;32m    175\u001b[0m uniques\u001b[38;5;241m.\u001b[39mextend(missing_values\u001b[38;5;241m.\u001b[39mto_list())\n",
            "File \u001b[0;32mmissing.pyx:392\u001b[0m, in \u001b[0;36mpandas._libs.missing.NAType.__bool__\u001b[0;34m()\u001b[0m\n",
            "\u001b[0;31mTypeError\u001b[0m: boolean value of NA is ambiguous",
            "\nDuring handling of the above exception, another exception occurred:\n",
            "\u001b[0;31mTypeError\u001b[0m                                 Traceback (most recent call last)",
            "Cell \u001b[0;32mIn[19], line 89\u001b[0m\n\u001b[1;32m     86\u001b[0m \u001b[38;5;66;03m# assert(X_train_subset.isnull().sum().sum() == 0)\u001b[39;00m\n\u001b[1;32m     88\u001b[0m ic(row_number)\n\u001b[0;32m---> 89\u001b[0m \u001b[43mclassifier\u001b[49m\u001b[38;5;241;43m.\u001b[39;49m\u001b[43mfit\u001b[49m\u001b[43m(\u001b[49m\u001b[43mX_train_subset\u001b[49m\u001b[43m,\u001b[49m\u001b[43m \u001b[49m\u001b[43my_train_subset\u001b[49m\u001b[43m)\u001b[49m\n\u001b[1;32m     90\u001b[0m y_pred \u001b[38;5;241m=\u001b[39m classifier\u001b[38;5;241m.\u001b[39mpredict_proba(X_new_test)\n\u001b[1;32m     91\u001b[0m \u001b[38;5;28mprint\u001b[39m(y_pred\u001b[38;5;241m.\u001b[39mshape)\n",
            "File \u001b[0;32m/usr/local/envs/LMTDE/lib/python3.11/site-packages/tabpfn/classifier.py:456\u001b[0m, in \u001b[0;36mTabPFNClassifier.fit\u001b[0;34m(self, X, y)\u001b[0m\n\u001b[1;32m    454\u001b[0m \u001b[38;5;66;03m# Ensure categories are ordinally encoded\u001b[39;00m\n\u001b[1;32m    455\u001b[0m ord_encoder \u001b[38;5;241m=\u001b[39m _get_ordinal_encoder()\n\u001b[0;32m--> 456\u001b[0m X \u001b[38;5;241m=\u001b[39m \u001b[43mord_encoder\u001b[49m\u001b[38;5;241;43m.\u001b[39;49m\u001b[43mfit_transform\u001b[49m\u001b[43m(\u001b[49m\u001b[43mX\u001b[49m\u001b[43m)\u001b[49m  \u001b[38;5;66;03m# type: ignore\u001b[39;00m\n\u001b[1;32m    457\u001b[0m \u001b[38;5;28;01massert\u001b[39;00m \u001b[38;5;28misinstance\u001b[39m(X, np\u001b[38;5;241m.\u001b[39mndarray)\n\u001b[1;32m    458\u001b[0m \u001b[38;5;28mself\u001b[39m\u001b[38;5;241m.\u001b[39mpreprocessor_ \u001b[38;5;241m=\u001b[39m ord_encoder\n",
            "File \u001b[0;32m/usr/local/envs/LMTDE/lib/python3.11/site-packages/sklearn/utils/_set_output.py:316\u001b[0m, in \u001b[0;36m_wrap_method_output.<locals>.wrapped\u001b[0;34m(self, X, *args, **kwargs)\u001b[0m\n\u001b[1;32m    314\u001b[0m \u001b[38;5;129m@wraps\u001b[39m(f)\n\u001b[1;32m    315\u001b[0m \u001b[38;5;28;01mdef\u001b[39;00m \u001b[38;5;21mwrapped\u001b[39m(\u001b[38;5;28mself\u001b[39m, X, \u001b[38;5;241m*\u001b[39margs, \u001b[38;5;241m*\u001b[39m\u001b[38;5;241m*\u001b[39mkwargs):\n\u001b[0;32m--> 316\u001b[0m     data_to_wrap \u001b[38;5;241m=\u001b[39m \u001b[43mf\u001b[49m\u001b[43m(\u001b[49m\u001b[38;5;28;43mself\u001b[39;49m\u001b[43m,\u001b[49m\u001b[43m \u001b[49m\u001b[43mX\u001b[49m\u001b[43m,\u001b[49m\u001b[43m \u001b[49m\u001b[38;5;241;43m*\u001b[39;49m\u001b[43margs\u001b[49m\u001b[43m,\u001b[49m\u001b[43m \u001b[49m\u001b[38;5;241;43m*\u001b[39;49m\u001b[38;5;241;43m*\u001b[39;49m\u001b[43mkwargs\u001b[49m\u001b[43m)\u001b[49m\n\u001b[1;32m    317\u001b[0m     \u001b[38;5;28;01mif\u001b[39;00m \u001b[38;5;28misinstance\u001b[39m(data_to_wrap, \u001b[38;5;28mtuple\u001b[39m):\n\u001b[1;32m    318\u001b[0m         \u001b[38;5;66;03m# only wrap the first output for cross decomposition\u001b[39;00m\n\u001b[1;32m    319\u001b[0m         return_tuple \u001b[38;5;241m=\u001b[39m (\n\u001b[1;32m    320\u001b[0m             _wrap_data_with_container(method, data_to_wrap[\u001b[38;5;241m0\u001b[39m], X, \u001b[38;5;28mself\u001b[39m),\n\u001b[1;32m    321\u001b[0m             \u001b[38;5;241m*\u001b[39mdata_to_wrap[\u001b[38;5;241m1\u001b[39m:],\n\u001b[1;32m    322\u001b[0m         )\n",
            "File \u001b[0;32m/usr/local/envs/LMTDE/lib/python3.11/site-packages/sklearn/base.py:1473\u001b[0m, in \u001b[0;36m_fit_context.<locals>.decorator.<locals>.wrapper\u001b[0;34m(estimator, *args, **kwargs)\u001b[0m\n\u001b[1;32m   1466\u001b[0m     estimator\u001b[38;5;241m.\u001b[39m_validate_params()\n\u001b[1;32m   1468\u001b[0m \u001b[38;5;28;01mwith\u001b[39;00m config_context(\n\u001b[1;32m   1469\u001b[0m     skip_parameter_validation\u001b[38;5;241m=\u001b[39m(\n\u001b[1;32m   1470\u001b[0m         prefer_skip_nested_validation \u001b[38;5;129;01mor\u001b[39;00m global_skip_validation\n\u001b[1;32m   1471\u001b[0m     )\n\u001b[1;32m   1472\u001b[0m ):\n\u001b[0;32m-> 1473\u001b[0m     \u001b[38;5;28;01mreturn\u001b[39;00m \u001b[43mfit_method\u001b[49m\u001b[43m(\u001b[49m\u001b[43mestimator\u001b[49m\u001b[43m,\u001b[49m\u001b[43m \u001b[49m\u001b[38;5;241;43m*\u001b[39;49m\u001b[43margs\u001b[49m\u001b[43m,\u001b[49m\u001b[43m \u001b[49m\u001b[38;5;241;43m*\u001b[39;49m\u001b[38;5;241;43m*\u001b[39;49m\u001b[43mkwargs\u001b[49m\u001b[43m)\u001b[49m\n",
            "File \u001b[0;32m/usr/local/envs/LMTDE/lib/python3.11/site-packages/sklearn/compose/_column_transformer.py:979\u001b[0m, in \u001b[0;36mColumnTransformer.fit_transform\u001b[0;34m(self, X, y, **params)\u001b[0m\n\u001b[1;32m    976\u001b[0m \u001b[38;5;28;01melse\u001b[39;00m:\n\u001b[1;32m    977\u001b[0m     routed_params \u001b[38;5;241m=\u001b[39m \u001b[38;5;28mself\u001b[39m\u001b[38;5;241m.\u001b[39m_get_empty_routing()\n\u001b[0;32m--> 979\u001b[0m result \u001b[38;5;241m=\u001b[39m \u001b[38;5;28;43mself\u001b[39;49m\u001b[38;5;241;43m.\u001b[39;49m\u001b[43m_call_func_on_transformers\u001b[49m\u001b[43m(\u001b[49m\n\u001b[1;32m    980\u001b[0m \u001b[43m    \u001b[49m\u001b[43mX\u001b[49m\u001b[43m,\u001b[49m\n\u001b[1;32m    981\u001b[0m \u001b[43m    \u001b[49m\u001b[43my\u001b[49m\u001b[43m,\u001b[49m\n\u001b[1;32m    982\u001b[0m \u001b[43m    \u001b[49m\u001b[43m_fit_transform_one\u001b[49m\u001b[43m,\u001b[49m\n\u001b[1;32m    983\u001b[0m \u001b[43m    \u001b[49m\u001b[43mcolumn_as_labels\u001b[49m\u001b[38;5;241;43m=\u001b[39;49m\u001b[38;5;28;43;01mFalse\u001b[39;49;00m\u001b[43m,\u001b[49m\n\u001b[1;32m    984\u001b[0m \u001b[43m    \u001b[49m\u001b[43mrouted_params\u001b[49m\u001b[38;5;241;43m=\u001b[39;49m\u001b[43mrouted_params\u001b[49m\u001b[43m,\u001b[49m\n\u001b[1;32m    985\u001b[0m \u001b[43m\u001b[49m\u001b[43m)\u001b[49m\n\u001b[1;32m    987\u001b[0m \u001b[38;5;28;01mif\u001b[39;00m \u001b[38;5;129;01mnot\u001b[39;00m result:\n\u001b[1;32m    988\u001b[0m     \u001b[38;5;28mself\u001b[39m\u001b[38;5;241m.\u001b[39m_update_fitted_transformers([])\n",
            "File \u001b[0;32m/usr/local/envs/LMTDE/lib/python3.11/site-packages/sklearn/compose/_column_transformer.py:887\u001b[0m, in \u001b[0;36mColumnTransformer._call_func_on_transformers\u001b[0;34m(self, X, y, func, column_as_labels, routed_params)\u001b[0m\n\u001b[1;32m    875\u001b[0m             extra_args \u001b[38;5;241m=\u001b[39m {}\n\u001b[1;32m    876\u001b[0m         jobs\u001b[38;5;241m.\u001b[39mappend(\n\u001b[1;32m    877\u001b[0m             delayed(func)(\n\u001b[1;32m    878\u001b[0m                 transformer\u001b[38;5;241m=\u001b[39mclone(trans) \u001b[38;5;28;01mif\u001b[39;00m \u001b[38;5;129;01mnot\u001b[39;00m fitted \u001b[38;5;28;01melse\u001b[39;00m trans,\n\u001b[0;32m   (...)\u001b[0m\n\u001b[1;32m    884\u001b[0m             )\n\u001b[1;32m    885\u001b[0m         )\n\u001b[0;32m--> 887\u001b[0m     \u001b[38;5;28;01mreturn\u001b[39;00m \u001b[43mParallel\u001b[49m\u001b[43m(\u001b[49m\u001b[43mn_jobs\u001b[49m\u001b[38;5;241;43m=\u001b[39;49m\u001b[38;5;28;43mself\u001b[39;49m\u001b[38;5;241;43m.\u001b[39;49m\u001b[43mn_jobs\u001b[49m\u001b[43m)\u001b[49m\u001b[43m(\u001b[49m\u001b[43mjobs\u001b[49m\u001b[43m)\u001b[49m\n\u001b[1;32m    889\u001b[0m \u001b[38;5;28;01mexcept\u001b[39;00m \u001b[38;5;167;01mValueError\u001b[39;00m \u001b[38;5;28;01mas\u001b[39;00m e:\n\u001b[1;32m    890\u001b[0m     \u001b[38;5;28;01mif\u001b[39;00m \u001b[38;5;124m\"\u001b[39m\u001b[38;5;124mExpected 2D array, got 1D array instead\u001b[39m\u001b[38;5;124m\"\u001b[39m \u001b[38;5;129;01min\u001b[39;00m \u001b[38;5;28mstr\u001b[39m(e):\n",
            "File \u001b[0;32m/usr/local/envs/LMTDE/lib/python3.11/site-packages/sklearn/utils/parallel.py:74\u001b[0m, in \u001b[0;36mParallel.__call__\u001b[0;34m(self, iterable)\u001b[0m\n\u001b[1;32m     69\u001b[0m config \u001b[38;5;241m=\u001b[39m get_config()\n\u001b[1;32m     70\u001b[0m iterable_with_config \u001b[38;5;241m=\u001b[39m (\n\u001b[1;32m     71\u001b[0m     (_with_config(delayed_func, config), args, kwargs)\n\u001b[1;32m     72\u001b[0m     \u001b[38;5;28;01mfor\u001b[39;00m delayed_func, args, kwargs \u001b[38;5;129;01min\u001b[39;00m iterable\n\u001b[1;32m     73\u001b[0m )\n\u001b[0;32m---> 74\u001b[0m \u001b[38;5;28;01mreturn\u001b[39;00m \u001b[38;5;28;43msuper\u001b[39;49m\u001b[43m(\u001b[49m\u001b[43m)\u001b[49m\u001b[38;5;241;43m.\u001b[39;49m\u001b[38;5;21;43m__call__\u001b[39;49m\u001b[43m(\u001b[49m\u001b[43miterable_with_config\u001b[49m\u001b[43m)\u001b[49m\n",
            "File \u001b[0;32m/usr/local/envs/LMTDE/lib/python3.11/site-packages/joblib/parallel.py:1918\u001b[0m, in \u001b[0;36mParallel.__call__\u001b[0;34m(self, iterable)\u001b[0m\n\u001b[1;32m   1916\u001b[0m     output \u001b[38;5;241m=\u001b[39m \u001b[38;5;28mself\u001b[39m\u001b[38;5;241m.\u001b[39m_get_sequential_output(iterable)\n\u001b[1;32m   1917\u001b[0m     \u001b[38;5;28mnext\u001b[39m(output)\n\u001b[0;32m-> 1918\u001b[0m     \u001b[38;5;28;01mreturn\u001b[39;00m output \u001b[38;5;28;01mif\u001b[39;00m \u001b[38;5;28mself\u001b[39m\u001b[38;5;241m.\u001b[39mreturn_generator \u001b[38;5;28;01melse\u001b[39;00m \u001b[38;5;28mlist\u001b[39m(output)\n\u001b[1;32m   1920\u001b[0m \u001b[38;5;66;03m# Let's create an ID that uniquely identifies the current call. If the\u001b[39;00m\n\u001b[1;32m   1921\u001b[0m \u001b[38;5;66;03m# call is interrupted early and that the same instance is immediately\u001b[39;00m\n\u001b[1;32m   1922\u001b[0m \u001b[38;5;66;03m# re-used, this id will be used to prevent workers that were\u001b[39;00m\n\u001b[1;32m   1923\u001b[0m \u001b[38;5;66;03m# concurrently finalizing a task from the previous call to run the\u001b[39;00m\n\u001b[1;32m   1924\u001b[0m \u001b[38;5;66;03m# callback.\u001b[39;00m\n\u001b[1;32m   1925\u001b[0m \u001b[38;5;28;01mwith\u001b[39;00m \u001b[38;5;28mself\u001b[39m\u001b[38;5;241m.\u001b[39m_lock:\n",
            "File \u001b[0;32m/usr/local/envs/LMTDE/lib/python3.11/site-packages/joblib/parallel.py:1847\u001b[0m, in \u001b[0;36mParallel._get_sequential_output\u001b[0;34m(self, iterable)\u001b[0m\n\u001b[1;32m   1845\u001b[0m \u001b[38;5;28mself\u001b[39m\u001b[38;5;241m.\u001b[39mn_dispatched_batches \u001b[38;5;241m+\u001b[39m\u001b[38;5;241m=\u001b[39m \u001b[38;5;241m1\u001b[39m\n\u001b[1;32m   1846\u001b[0m \u001b[38;5;28mself\u001b[39m\u001b[38;5;241m.\u001b[39mn_dispatched_tasks \u001b[38;5;241m+\u001b[39m\u001b[38;5;241m=\u001b[39m \u001b[38;5;241m1\u001b[39m\n\u001b[0;32m-> 1847\u001b[0m res \u001b[38;5;241m=\u001b[39m \u001b[43mfunc\u001b[49m\u001b[43m(\u001b[49m\u001b[38;5;241;43m*\u001b[39;49m\u001b[43margs\u001b[49m\u001b[43m,\u001b[49m\u001b[43m \u001b[49m\u001b[38;5;241;43m*\u001b[39;49m\u001b[38;5;241;43m*\u001b[39;49m\u001b[43mkwargs\u001b[49m\u001b[43m)\u001b[49m\n\u001b[1;32m   1848\u001b[0m \u001b[38;5;28mself\u001b[39m\u001b[38;5;241m.\u001b[39mn_completed_tasks \u001b[38;5;241m+\u001b[39m\u001b[38;5;241m=\u001b[39m \u001b[38;5;241m1\u001b[39m\n\u001b[1;32m   1849\u001b[0m \u001b[38;5;28mself\u001b[39m\u001b[38;5;241m.\u001b[39mprint_progress()\n",
            "File \u001b[0;32m/usr/local/envs/LMTDE/lib/python3.11/site-packages/sklearn/utils/parallel.py:136\u001b[0m, in \u001b[0;36m_FuncWrapper.__call__\u001b[0;34m(self, *args, **kwargs)\u001b[0m\n\u001b[1;32m    134\u001b[0m     config \u001b[38;5;241m=\u001b[39m {}\n\u001b[1;32m    135\u001b[0m \u001b[38;5;28;01mwith\u001b[39;00m config_context(\u001b[38;5;241m*\u001b[39m\u001b[38;5;241m*\u001b[39mconfig):\n\u001b[0;32m--> 136\u001b[0m     \u001b[38;5;28;01mreturn\u001b[39;00m \u001b[38;5;28;43mself\u001b[39;49m\u001b[38;5;241;43m.\u001b[39;49m\u001b[43mfunction\u001b[49m\u001b[43m(\u001b[49m\u001b[38;5;241;43m*\u001b[39;49m\u001b[43margs\u001b[49m\u001b[43m,\u001b[49m\u001b[43m \u001b[49m\u001b[38;5;241;43m*\u001b[39;49m\u001b[38;5;241;43m*\u001b[39;49m\u001b[43mkwargs\u001b[49m\u001b[43m)\u001b[49m\n",
            "File \u001b[0;32m/usr/local/envs/LMTDE/lib/python3.11/site-packages/sklearn/pipeline.py:1310\u001b[0m, in \u001b[0;36m_fit_transform_one\u001b[0;34m(transformer, X, y, weight, message_clsname, message, params)\u001b[0m\n\u001b[1;32m   1308\u001b[0m \u001b[38;5;28;01mwith\u001b[39;00m _print_elapsed_time(message_clsname, message):\n\u001b[1;32m   1309\u001b[0m     \u001b[38;5;28;01mif\u001b[39;00m \u001b[38;5;28mhasattr\u001b[39m(transformer, \u001b[38;5;124m\"\u001b[39m\u001b[38;5;124mfit_transform\u001b[39m\u001b[38;5;124m\"\u001b[39m):\n\u001b[0;32m-> 1310\u001b[0m         res \u001b[38;5;241m=\u001b[39m \u001b[43mtransformer\u001b[49m\u001b[38;5;241;43m.\u001b[39;49m\u001b[43mfit_transform\u001b[49m\u001b[43m(\u001b[49m\u001b[43mX\u001b[49m\u001b[43m,\u001b[49m\u001b[43m \u001b[49m\u001b[43my\u001b[49m\u001b[43m,\u001b[49m\u001b[43m \u001b[49m\u001b[38;5;241;43m*\u001b[39;49m\u001b[38;5;241;43m*\u001b[39;49m\u001b[43mparams\u001b[49m\u001b[38;5;241;43m.\u001b[39;49m\u001b[43mget\u001b[49m\u001b[43m(\u001b[49m\u001b[38;5;124;43m\"\u001b[39;49m\u001b[38;5;124;43mfit_transform\u001b[39;49m\u001b[38;5;124;43m\"\u001b[39;49m\u001b[43m,\u001b[49m\u001b[43m \u001b[49m\u001b[43m{\u001b[49m\u001b[43m}\u001b[49m\u001b[43m)\u001b[49m\u001b[43m)\u001b[49m\n\u001b[1;32m   1311\u001b[0m     \u001b[38;5;28;01melse\u001b[39;00m:\n\u001b[1;32m   1312\u001b[0m         res \u001b[38;5;241m=\u001b[39m transformer\u001b[38;5;241m.\u001b[39mfit(X, y, \u001b[38;5;241m*\u001b[39m\u001b[38;5;241m*\u001b[39mparams\u001b[38;5;241m.\u001b[39mget(\u001b[38;5;124m\"\u001b[39m\u001b[38;5;124mfit\u001b[39m\u001b[38;5;124m\"\u001b[39m, {}))\u001b[38;5;241m.\u001b[39mtransform(\n\u001b[1;32m   1313\u001b[0m             X, \u001b[38;5;241m*\u001b[39m\u001b[38;5;241m*\u001b[39mparams\u001b[38;5;241m.\u001b[39mget(\u001b[38;5;124m\"\u001b[39m\u001b[38;5;124mtransform\u001b[39m\u001b[38;5;124m\"\u001b[39m, {})\n\u001b[1;32m   1314\u001b[0m         )\n",
            "File \u001b[0;32m/usr/local/envs/LMTDE/lib/python3.11/site-packages/sklearn/utils/_set_output.py:316\u001b[0m, in \u001b[0;36m_wrap_method_output.<locals>.wrapped\u001b[0;34m(self, X, *args, **kwargs)\u001b[0m\n\u001b[1;32m    314\u001b[0m \u001b[38;5;129m@wraps\u001b[39m(f)\n\u001b[1;32m    315\u001b[0m \u001b[38;5;28;01mdef\u001b[39;00m \u001b[38;5;21mwrapped\u001b[39m(\u001b[38;5;28mself\u001b[39m, X, \u001b[38;5;241m*\u001b[39margs, \u001b[38;5;241m*\u001b[39m\u001b[38;5;241m*\u001b[39mkwargs):\n\u001b[0;32m--> 316\u001b[0m     data_to_wrap \u001b[38;5;241m=\u001b[39m \u001b[43mf\u001b[49m\u001b[43m(\u001b[49m\u001b[38;5;28;43mself\u001b[39;49m\u001b[43m,\u001b[49m\u001b[43m \u001b[49m\u001b[43mX\u001b[49m\u001b[43m,\u001b[49m\u001b[43m \u001b[49m\u001b[38;5;241;43m*\u001b[39;49m\u001b[43margs\u001b[49m\u001b[43m,\u001b[49m\u001b[43m \u001b[49m\u001b[38;5;241;43m*\u001b[39;49m\u001b[38;5;241;43m*\u001b[39;49m\u001b[43mkwargs\u001b[49m\u001b[43m)\u001b[49m\n\u001b[1;32m    317\u001b[0m     \u001b[38;5;28;01mif\u001b[39;00m \u001b[38;5;28misinstance\u001b[39m(data_to_wrap, \u001b[38;5;28mtuple\u001b[39m):\n\u001b[1;32m    318\u001b[0m         \u001b[38;5;66;03m# only wrap the first output for cross decomposition\u001b[39;00m\n\u001b[1;32m    319\u001b[0m         return_tuple \u001b[38;5;241m=\u001b[39m (\n\u001b[1;32m    320\u001b[0m             _wrap_data_with_container(method, data_to_wrap[\u001b[38;5;241m0\u001b[39m], X, \u001b[38;5;28mself\u001b[39m),\n\u001b[1;32m    321\u001b[0m             \u001b[38;5;241m*\u001b[39mdata_to_wrap[\u001b[38;5;241m1\u001b[39m:],\n\u001b[1;32m    322\u001b[0m         )\n",
            "File \u001b[0;32m/usr/local/envs/LMTDE/lib/python3.11/site-packages/sklearn/base.py:1098\u001b[0m, in \u001b[0;36mTransformerMixin.fit_transform\u001b[0;34m(self, X, y, **fit_params)\u001b[0m\n\u001b[1;32m   1083\u001b[0m         warnings\u001b[38;5;241m.\u001b[39mwarn(\n\u001b[1;32m   1084\u001b[0m             (\n\u001b[1;32m   1085\u001b[0m                 \u001b[38;5;124mf\u001b[39m\u001b[38;5;124m\"\u001b[39m\u001b[38;5;124mThis object (\u001b[39m\u001b[38;5;132;01m{\u001b[39;00m\u001b[38;5;28mself\u001b[39m\u001b[38;5;241m.\u001b[39m\u001b[38;5;18m__class__\u001b[39m\u001b[38;5;241m.\u001b[39m\u001b[38;5;18m__name__\u001b[39m\u001b[38;5;132;01m}\u001b[39;00m\u001b[38;5;124m) has a `transform`\u001b[39m\u001b[38;5;124m\"\u001b[39m\n\u001b[0;32m   (...)\u001b[0m\n\u001b[1;32m   1093\u001b[0m             \u001b[38;5;167;01mUserWarning\u001b[39;00m,\n\u001b[1;32m   1094\u001b[0m         )\n\u001b[1;32m   1096\u001b[0m \u001b[38;5;28;01mif\u001b[39;00m y \u001b[38;5;129;01mis\u001b[39;00m \u001b[38;5;28;01mNone\u001b[39;00m:\n\u001b[1;32m   1097\u001b[0m     \u001b[38;5;66;03m# fit method of arity 1 (unsupervised transformation)\u001b[39;00m\n\u001b[0;32m-> 1098\u001b[0m     \u001b[38;5;28;01mreturn\u001b[39;00m \u001b[38;5;28;43mself\u001b[39;49m\u001b[38;5;241;43m.\u001b[39;49m\u001b[43mfit\u001b[49m\u001b[43m(\u001b[49m\u001b[43mX\u001b[49m\u001b[43m,\u001b[49m\u001b[43m \u001b[49m\u001b[38;5;241;43m*\u001b[39;49m\u001b[38;5;241;43m*\u001b[39;49m\u001b[43mfit_params\u001b[49m\u001b[43m)\u001b[49m\u001b[38;5;241m.\u001b[39mtransform(X)\n\u001b[1;32m   1099\u001b[0m \u001b[38;5;28;01melse\u001b[39;00m:\n\u001b[1;32m   1100\u001b[0m     \u001b[38;5;66;03m# fit method of arity 2 (supervised transformation)\u001b[39;00m\n\u001b[1;32m   1101\u001b[0m     \u001b[38;5;28;01mreturn\u001b[39;00m \u001b[38;5;28mself\u001b[39m\u001b[38;5;241m.\u001b[39mfit(X, y, \u001b[38;5;241m*\u001b[39m\u001b[38;5;241m*\u001b[39mfit_params)\u001b[38;5;241m.\u001b[39mtransform(X)\n",
            "File \u001b[0;32m/usr/local/envs/LMTDE/lib/python3.11/site-packages/sklearn/base.py:1473\u001b[0m, in \u001b[0;36m_fit_context.<locals>.decorator.<locals>.wrapper\u001b[0;34m(estimator, *args, **kwargs)\u001b[0m\n\u001b[1;32m   1466\u001b[0m     estimator\u001b[38;5;241m.\u001b[39m_validate_params()\n\u001b[1;32m   1468\u001b[0m \u001b[38;5;28;01mwith\u001b[39;00m config_context(\n\u001b[1;32m   1469\u001b[0m     skip_parameter_validation\u001b[38;5;241m=\u001b[39m(\n\u001b[1;32m   1470\u001b[0m         prefer_skip_nested_validation \u001b[38;5;129;01mor\u001b[39;00m global_skip_validation\n\u001b[1;32m   1471\u001b[0m     )\n\u001b[1;32m   1472\u001b[0m ):\n\u001b[0;32m-> 1473\u001b[0m     \u001b[38;5;28;01mreturn\u001b[39;00m \u001b[43mfit_method\u001b[49m\u001b[43m(\u001b[49m\u001b[43mestimator\u001b[49m\u001b[43m,\u001b[49m\u001b[43m \u001b[49m\u001b[38;5;241;43m*\u001b[39;49m\u001b[43margs\u001b[49m\u001b[43m,\u001b[49m\u001b[43m \u001b[49m\u001b[38;5;241;43m*\u001b[39;49m\u001b[38;5;241;43m*\u001b[39;49m\u001b[43mkwargs\u001b[49m\u001b[43m)\u001b[49m\n",
            "File \u001b[0;32m/usr/local/envs/LMTDE/lib/python3.11/site-packages/sklearn/preprocessing/_encoders.py:1496\u001b[0m, in \u001b[0;36mOrdinalEncoder.fit\u001b[0;34m(self, X, y)\u001b[0m\n\u001b[1;32m   1489\u001b[0m     \u001b[38;5;28;01mraise\u001b[39;00m \u001b[38;5;167;01mTypeError\u001b[39;00m(\n\u001b[1;32m   1490\u001b[0m         \u001b[38;5;124m\"\u001b[39m\u001b[38;5;124munknown_value should only be set when \u001b[39m\u001b[38;5;124m\"\u001b[39m\n\u001b[1;32m   1491\u001b[0m         \u001b[38;5;124m\"\u001b[39m\u001b[38;5;124mhandle_unknown is \u001b[39m\u001b[38;5;124m'\u001b[39m\u001b[38;5;124muse_encoded_value\u001b[39m\u001b[38;5;124m'\u001b[39m\u001b[38;5;124m, \u001b[39m\u001b[38;5;124m\"\u001b[39m\n\u001b[1;32m   1492\u001b[0m         \u001b[38;5;124mf\u001b[39m\u001b[38;5;124m\"\u001b[39m\u001b[38;5;124mgot \u001b[39m\u001b[38;5;132;01m{\u001b[39;00m\u001b[38;5;28mself\u001b[39m\u001b[38;5;241m.\u001b[39munknown_value\u001b[38;5;132;01m}\u001b[39;00m\u001b[38;5;124m.\u001b[39m\u001b[38;5;124m\"\u001b[39m\n\u001b[1;32m   1493\u001b[0m     )\n\u001b[1;32m   1495\u001b[0m \u001b[38;5;66;03m# `_fit` will only raise an error when `self.handle_unknown=\"error\"`\u001b[39;00m\n\u001b[0;32m-> 1496\u001b[0m fit_results \u001b[38;5;241m=\u001b[39m \u001b[38;5;28;43mself\u001b[39;49m\u001b[38;5;241;43m.\u001b[39;49m\u001b[43m_fit\u001b[49m\u001b[43m(\u001b[49m\n\u001b[1;32m   1497\u001b[0m \u001b[43m    \u001b[49m\u001b[43mX\u001b[49m\u001b[43m,\u001b[49m\n\u001b[1;32m   1498\u001b[0m \u001b[43m    \u001b[49m\u001b[43mhandle_unknown\u001b[49m\u001b[38;5;241;43m=\u001b[39;49m\u001b[38;5;28;43mself\u001b[39;49m\u001b[38;5;241;43m.\u001b[39;49m\u001b[43mhandle_unknown\u001b[49m\u001b[43m,\u001b[49m\n\u001b[1;32m   1499\u001b[0m \u001b[43m    \u001b[49m\u001b[43mforce_all_finite\u001b[49m\u001b[38;5;241;43m=\u001b[39;49m\u001b[38;5;124;43m\"\u001b[39;49m\u001b[38;5;124;43mallow-nan\u001b[39;49m\u001b[38;5;124;43m\"\u001b[39;49m\u001b[43m,\u001b[49m\n\u001b[1;32m   1500\u001b[0m \u001b[43m    \u001b[49m\u001b[43mreturn_and_ignore_missing_for_infrequent\u001b[49m\u001b[38;5;241;43m=\u001b[39;49m\u001b[38;5;28;43;01mTrue\u001b[39;49;00m\u001b[43m,\u001b[49m\n\u001b[1;32m   1501\u001b[0m \u001b[43m\u001b[49m\u001b[43m)\u001b[49m\n\u001b[1;32m   1502\u001b[0m \u001b[38;5;28mself\u001b[39m\u001b[38;5;241m.\u001b[39m_missing_indices \u001b[38;5;241m=\u001b[39m fit_results[\u001b[38;5;124m\"\u001b[39m\u001b[38;5;124mmissing_indices\u001b[39m\u001b[38;5;124m\"\u001b[39m]\n\u001b[1;32m   1504\u001b[0m cardinalities \u001b[38;5;241m=\u001b[39m [\u001b[38;5;28mlen\u001b[39m(categories) \u001b[38;5;28;01mfor\u001b[39;00m categories \u001b[38;5;129;01min\u001b[39;00m \u001b[38;5;28mself\u001b[39m\u001b[38;5;241m.\u001b[39mcategories_]\n",
            "File \u001b[0;32m/usr/local/envs/LMTDE/lib/python3.11/site-packages/sklearn/preprocessing/_encoders.py:99\u001b[0m, in \u001b[0;36m_BaseEncoder._fit\u001b[0;34m(self, X, handle_unknown, force_all_finite, return_counts, return_and_ignore_missing_for_infrequent)\u001b[0m\n\u001b[1;32m     96\u001b[0m Xi \u001b[38;5;241m=\u001b[39m X_list[i]\n\u001b[1;32m     98\u001b[0m \u001b[38;5;28;01mif\u001b[39;00m \u001b[38;5;28mself\u001b[39m\u001b[38;5;241m.\u001b[39mcategories \u001b[38;5;241m==\u001b[39m \u001b[38;5;124m\"\u001b[39m\u001b[38;5;124mauto\u001b[39m\u001b[38;5;124m\"\u001b[39m:\n\u001b[0;32m---> 99\u001b[0m     result \u001b[38;5;241m=\u001b[39m \u001b[43m_unique\u001b[49m\u001b[43m(\u001b[49m\u001b[43mXi\u001b[49m\u001b[43m,\u001b[49m\u001b[43m \u001b[49m\u001b[43mreturn_counts\u001b[49m\u001b[38;5;241;43m=\u001b[39;49m\u001b[43mcompute_counts\u001b[49m\u001b[43m)\u001b[49m\n\u001b[1;32m    100\u001b[0m     \u001b[38;5;28;01mif\u001b[39;00m compute_counts:\n\u001b[1;32m    101\u001b[0m         cats, counts \u001b[38;5;241m=\u001b[39m result\n",
            "File \u001b[0;32m/usr/local/envs/LMTDE/lib/python3.11/site-packages/sklearn/utils/_encode.py:42\u001b[0m, in \u001b[0;36m_unique\u001b[0;34m(values, return_inverse, return_counts)\u001b[0m\n\u001b[1;32m     11\u001b[0m \u001b[38;5;250m\u001b[39m\u001b[38;5;124;03m\"\"\"Helper function to find unique values with support for python objects.\u001b[39;00m\n\u001b[1;32m     12\u001b[0m \n\u001b[1;32m     13\u001b[0m \u001b[38;5;124;03mUses pure python method for object dtype, and numpy method for\u001b[39;00m\n\u001b[0;32m   (...)\u001b[0m\n\u001b[1;32m     39\u001b[0m \u001b[38;5;124;03m    array. Only provided if `return_counts` is True.\u001b[39;00m\n\u001b[1;32m     40\u001b[0m \u001b[38;5;124;03m\"\"\"\u001b[39;00m\n\u001b[1;32m     41\u001b[0m \u001b[38;5;28;01mif\u001b[39;00m values\u001b[38;5;241m.\u001b[39mdtype \u001b[38;5;241m==\u001b[39m \u001b[38;5;28mobject\u001b[39m:\n\u001b[0;32m---> 42\u001b[0m     \u001b[38;5;28;01mreturn\u001b[39;00m \u001b[43m_unique_python\u001b[49m\u001b[43m(\u001b[49m\n\u001b[1;32m     43\u001b[0m \u001b[43m        \u001b[49m\u001b[43mvalues\u001b[49m\u001b[43m,\u001b[49m\u001b[43m \u001b[49m\u001b[43mreturn_inverse\u001b[49m\u001b[38;5;241;43m=\u001b[39;49m\u001b[43mreturn_inverse\u001b[49m\u001b[43m,\u001b[49m\u001b[43m \u001b[49m\u001b[43mreturn_counts\u001b[49m\u001b[38;5;241;43m=\u001b[39;49m\u001b[43mreturn_counts\u001b[49m\n\u001b[1;32m     44\u001b[0m \u001b[43m    \u001b[49m\u001b[43m)\u001b[49m\n\u001b[1;32m     45\u001b[0m \u001b[38;5;66;03m# numerical\u001b[39;00m\n\u001b[1;32m     46\u001b[0m \u001b[38;5;28;01mreturn\u001b[39;00m _unique_np(\n\u001b[1;32m     47\u001b[0m     values, return_inverse\u001b[38;5;241m=\u001b[39mreturn_inverse, return_counts\u001b[38;5;241m=\u001b[39mreturn_counts\n\u001b[1;32m     48\u001b[0m )\n",
            "File \u001b[0;32m/usr/local/envs/LMTDE/lib/python3.11/site-packages/sklearn/utils/_encode.py:179\u001b[0m, in \u001b[0;36m_unique_python\u001b[0;34m(values, return_inverse, return_counts)\u001b[0m\n\u001b[1;32m    177\u001b[0m \u001b[38;5;28;01mexcept\u001b[39;00m \u001b[38;5;167;01mTypeError\u001b[39;00m:\n\u001b[1;32m    178\u001b[0m     types \u001b[38;5;241m=\u001b[39m \u001b[38;5;28msorted\u001b[39m(t\u001b[38;5;241m.\u001b[39m\u001b[38;5;18m__qualname__\u001b[39m \u001b[38;5;28;01mfor\u001b[39;00m t \u001b[38;5;129;01min\u001b[39;00m \u001b[38;5;28mset\u001b[39m(\u001b[38;5;28mtype\u001b[39m(v) \u001b[38;5;28;01mfor\u001b[39;00m v \u001b[38;5;129;01min\u001b[39;00m values))\n\u001b[0;32m--> 179\u001b[0m     \u001b[38;5;28;01mraise\u001b[39;00m \u001b[38;5;167;01mTypeError\u001b[39;00m(\n\u001b[1;32m    180\u001b[0m         \u001b[38;5;124m\"\u001b[39m\u001b[38;5;124mEncoders require their input argument must be uniformly \u001b[39m\u001b[38;5;124m\"\u001b[39m\n\u001b[1;32m    181\u001b[0m         \u001b[38;5;124mf\u001b[39m\u001b[38;5;124m\"\u001b[39m\u001b[38;5;124mstrings or numbers. Got \u001b[39m\u001b[38;5;132;01m{\u001b[39;00mtypes\u001b[38;5;132;01m}\u001b[39;00m\u001b[38;5;124m\"\u001b[39m\n\u001b[1;32m    182\u001b[0m     )\n\u001b[1;32m    183\u001b[0m ret \u001b[38;5;241m=\u001b[39m (uniques,)\n\u001b[1;32m    185\u001b[0m \u001b[38;5;28;01mif\u001b[39;00m return_inverse:\n",
            "\u001b[0;31mTypeError\u001b[0m: Encoders require their input argument must be uniformly strings or numbers. Got ['NAType', 'str']"
          ]
        }
      ],
      "source": [
        "import warnings\n",
        "# import numpy as np\n",
        "warnings.filterwarnings(\"ignore\", category=RuntimeWarning)\n",
        "\n",
        "# from tabpfn_extensions.hpo import (\n",
        "#     TunedTabPFNRegressor,\n",
        "#     TunedTabPFNClassifier,\n",
        "# )\n",
        "\n",
        "import pandas as pd\n",
        "import toml\n",
        "from icecream import ic\n",
        "\n",
        "# toml_path = '/openbayes/home/NEW/rebuild_adrd/data/toml_files/default_conf_new.toml'\n",
        "toml_path = '/openbayes/home/NEW/rebuild_adrd/data/adni_dataset/adni.toml'\n",
        "features_and_labels = toml.load(toml_path)\n",
        "# ic.enable()\n",
        "# ic(features_and_labels)\n",
        "\n",
        "feature_column_name = [key for key in features_and_labels['feature'].keys()]\n",
        "\n",
        "# train_file_path = '/openbayes/home/NEW/rebuild_adrd/data/nacc_train.csv'\n",
        "# test_file_path = '/openbayes/home/NEW/rebuild_adrd/data/nacc_test.csv'\n",
        "train_file_path = '/openbayes/home/NEW/rebuild_adrd/data/adni_quchong.csv'\n",
        "# test_file_path = '/openbayes/home/NEW/rebuild_adrd/data/adni_quchong.csv'\n",
        "\n",
        "label_column_name = [key for key in features_and_labels['label'].keys()]\n",
        "\n",
        "train_data = pd.read_csv(train_file_path)\n",
        "# test_data = pd.read_csv(test_file_path)\n",
        "\n",
        "# train:test = 8:2\n",
        "test_data = train_data[round(train_data.shape[0] * 0.8):]\n",
        "train_data = train_data[:round(train_data.shape[0] * 0.8)]\n",
        "\n",
        "# filtered feature column that not exist in train_data\n",
        "feature_column_name = [column for column in feature_column_name if column in train_data.columns]\n",
        "\n",
        "for current_name in label_column_name:\n",
        "\n",
        "    # select X from column name in feature_column_name\n",
        "    X_train = train_data[feature_column_name]\n",
        "    X_test = test_data[feature_column_name]\n",
        "\n",
        "    # select y from column name in label_column_name\n",
        "    y_train = train_data[current_name]\n",
        "    y_test = test_data[current_name]\n",
        "\n",
        "    # print(\"X_train shape:\", X_train.shape)\n",
        "    # print(\"y_train shape:\", y_train.shape)\n",
        "    # print(\"X_test shape:\", X_test.shape)\n",
        "    # print(\"y_test shape:\", y_test.shape)\n",
        "\n",
        "    row_number_array = [3, 10, 30, 100, 300, 1000, 3000, 10000]\n",
        "\n",
        "    # if X_train.shape[0] >= 10000:\n",
        "    #     # sample 10000 rows id in range(0, X_train.shape[0])\n",
        "    #     sample_index = np.random.choice(X_train.shape[0], 10000, replace=False)\n",
        "    #     X_train = X_train.iloc[sample_index]\n",
        "    #     y_train = y_train.iloc[sample_index]\n",
        "\n",
        "    for row_number in row_number_array:\n",
        "        torch.cuda.empty_cache()\n",
        "        classifier = TabPFNClassifier(random_state=42)\n",
        "        while(True):\n",
        "            sample_index = np.random.choice(X_train.shape[0], row_number, replace=False)\n",
        "            X_train_subset = X_train.iloc[sample_index].copy()\n",
        "            y_train_subset = y_train.iloc[sample_index].copy()\n",
        "\n",
        "            # clean GPU cache\n",
        "            assert(X_train_subset.shape[0] != 0)\n",
        "            # check if X_train_subset contains NaN\n",
        "            # ic(X_train_subset['MH16BSMOK'].isnull().sum())\n",
        "            # if y_train_subset not all null break\n",
        "            if y_train_subset.isnull().sum() != row_number:\n",
        "                break\n",
        "\n",
        "        to_drop = []\n",
        "        for col in X_train_subset.columns:\n",
        "            # ic(col)\n",
        "            if X_train_subset[col].isnull().sum() == X_train_subset.shape[0]:\n",
        "                to_drop.append(col)\n",
        "        # drop all columns in to_drop\n",
        "        X_train_subset.drop(columns=to_drop, inplace=True)\n",
        "        X_new_test = X_test.drop(columns=to_drop, inplace=False)\n",
        "        # assert(X_train_subset.isnull().sum().sum() == 0)\n",
        "\n",
        "        ic(row_number)\n",
        "        classifier.fit(X_train_subset, y_train_subset)\n",
        "        y_pred = classifier.predict_proba(X_new_test)\n",
        "        print(y_pred.shape)\n",
        "        score = roc_auc_score(y_test, y_pred[:, 1] if y_pred.shape[1] > 1 else y_pred[:, 0])\n",
        "        # print(f\"TabPFN [{current_name}] ROC AUC: {score:.4f}\")\n",
        "        print(f\"TabPFN [{current_name}] ROC AUC: {score:.4f} with {row_number} rows\")\n",
        "\n",
        "'''\n",
        "X_train, X_test, y_train, y_test = train_test_split(X, y, test_size=0.20, random_state=6)\n",
        "\n",
        "# Train and evaluate TabPFN\n",
        "y_pred = TabPFNClassifier(random_state=42).fit(X_train, y_train).predict_proba(X_test)\n",
        "\n",
        "# Calculate ROC AUC (handles both binary and multiclass)\n",
        "score = roc_auc_score(y_test, y_pred if len(np.unique(y)) > 2 else y_pred[:, 1])\n",
        "print(f\"TabPFN ROC AUC: {score:.4f}\")\n",
        "'''"
      ]
    },
    {
      "cell_type": "code",
      "execution_count": null,
      "metadata": {
        "colab": {
          "base_uri": "https://localhost:8080/",
          "height": 506
        },
        "id": "ITuXXhqE7Fps",
        "outputId": "d8e23e13-2332-46e6-e063-30e2dc5d561b"
      },
      "outputs": [
        {
          "data": {
            "text/plain": [
              "Text(0.5, 1.0, 'Model Comparison - 5-fold Cross-validation')"
            ]
          },
          "execution_count": 7,
          "metadata": {},
          "output_type": "execute_result"
        },
        {
          "data": {
            "image/png": "[encoded data removed]",
            "text/plain": [
              "<Figure size 1000x600 with 1 Axes>"
            ]
          },
          "metadata": {},
          "output_type": "display_data"
        }
      ],
      "source": [
        "# Compare different machine learning models by training each one multiple times\n",
        "# on different parts of the data and averaging their performance scores for a\n",
        "# more reliable performance estimate\n",
        "\n",
        "# Define models\n",
        "models = [\n",
        "    ('TabPFN', TabPFNClassifier(random_state=42)),\n",
        "    ('RandomForest', RandomForestClassifier(random_state=42)),\n",
        "    ('XGBoost', XGBClassifier(random_state=42)),\n",
        "    ('CatBoost', CatBoostClassifier(random_state=42, verbose=0))\n",
        "]\n",
        "\n",
        "# Calculate scores\n",
        "scoring = 'roc_auc_ovr' if len(np.unique(y)) > 2 else 'roc_auc'\n",
        "scores = {name: cross_val_score(model, X, y, cv=5, scoring=scoring, n_jobs=1, verbose=1).mean()\n",
        "          for name, model in models}\n",
        "\n",
        "# Plot results\n",
        "df = pd.DataFrame(list(scores.items()), columns=['Model', 'ROC AUC'])\n",
        "ax = df.plot(x='Model', y='ROC AUC', kind='bar', figsize=(10, 6))\n",
        "ax.set_ylim(df['ROC AUC'].min() * 0.995, min(1.0, df['ROC AUC'].max() * 1.005))\n",
        "ax.set_title('Model Comparison - 5-fold Cross-validation')"
      ]
    },
    {
      "cell_type": "markdown",
      "metadata": {
        "id": "49sMXWT5DYzj"
      },
      "source": [
        "### Best Quality Models (Recommended Use) - Post Hoc Ensembles"
      ]
    },
    {
      "cell_type": "code",
      "execution_count": null,
      "metadata": {
        "colab": {
          "base_uri": "https://localhost:8080/",
          "height": 649
        },
        "id": "9FxRwXoXDWDe",
        "outputId": "97abf533-2273-4be7-9e47-acbdfe66c314"
      },
      "outputs": [
        {
          "name": "stderr",
          "output_type": "stream",
          "text": [
            "2025-02-20 03:07:34 INFO     Using `default` preset for Post Hoc Ensemble.\n",
            "2025-02-20 03:07:34 INFO     No categorical_feature_indices given. Assuming no categorical features.\n",
            "2025-02-20 03:07:34 INFO     Using task type: TaskType.BINARY\n",
            "2025-02-20 03:07:34 INFO     Obtaining TabPFN models from a random portfolio.\n"
          ]
        },
        {
          "name": "stderr",
          "output_type": "stream",
          "text": [
            "2025-02-20 03:07:39 INFO     Using 100 base models: ['default_tabpfn_model_0', 'random_tabpfn_model_1', 'random_rf_pfn_model_2', 'random_rf_pfn_model_3', 'random_rf_pfn_model_4', 'random_rf_pfn_model_5', 'random_tabpfn_model_6', 'random_tabpfn_model_7', 'random_rf_pfn_model_8', 'random_tabpfn_model_9', 'random_rf_pfn_model_10', 'random_rf_pfn_model_11', 'random_tabpfn_model_12', 'random_tabpfn_model_13', 'random_rf_pfn_model_14', 'random_rf_pfn_model_15', 'random_rf_pfn_model_16', 'random_tabpfn_model_17', 'random_rf_pfn_model_18', 'random_tabpfn_model_19', 'random_rf_pfn_model_20', 'random_rf_pfn_model_21', 'random_tabpfn_model_22', 'random_rf_pfn_model_23', 'random_rf_pfn_model_24', 'random_tabpfn_model_25', 'random_rf_pfn_model_26', 'random_tabpfn_model_27', 'random_tabpfn_model_28', 'random_tabpfn_model_29', 'random_tabpfn_model_30', 'random_tabpfn_model_31', 'random_tabpfn_model_32', 'random_tabpfn_model_33', 'random_tabpfn_model_34', 'random_tabpfn_model_35', 'random_rf_pfn_model_36', 'random_tabpfn_model_37', 'random_rf_pfn_model_38', 'random_tabpfn_model_39', 'random_tabpfn_model_40', 'random_rf_pfn_model_41', 'random_tabpfn_model_42', 'random_tabpfn_model_43', 'random_tabpfn_model_44', 'random_tabpfn_model_45', 'random_rf_pfn_model_46', 'random_tabpfn_model_47', 'random_rf_pfn_model_48', 'random_tabpfn_model_49', 'random_tabpfn_model_50', 'random_rf_pfn_model_51', 'random_tabpfn_model_52', 'random_rf_pfn_model_53', 'random_rf_pfn_model_54', 'random_rf_pfn_model_55', 'random_tabpfn_model_56', 'random_tabpfn_model_57', 'random_rf_pfn_model_58', 'random_rf_pfn_model_59', 'random_tabpfn_model_60', 'random_tabpfn_model_61', 'random_rf_pfn_model_62', 'random_tabpfn_model_63', 'random_tabpfn_model_64', 'random_rf_pfn_model_65', 'random_tabpfn_model_66', 'random_tabpfn_model_67', 'random_tabpfn_model_68', 'random_rf_pfn_model_69', 'random_rf_pfn_model_70', 'random_tabpfn_model_71', 'random_tabpfn_model_72', 'random_rf_pfn_model_73', 'random_rf_pfn_model_74', 'random_rf_pfn_model_75', 'random_tabpfn_model_76', 'random_tabpfn_model_77', 'random_tabpfn_model_78', 'random_tabpfn_model_79', 'random_tabpfn_model_80', 'random_rf_pfn_model_81', 'random_rf_pfn_model_82', 'random_tabpfn_model_83', 'random_tabpfn_model_84', 'random_rf_pfn_model_85', 'random_rf_pfn_model_86', 'random_tabpfn_model_87', 'random_rf_pfn_model_88', 'random_tabpfn_model_89', 'random_tabpfn_model_90', 'random_tabpfn_model_91', 'random_rf_pfn_model_92', 'random_rf_pfn_model_93', 'random_tabpfn_model_94', 'random_tabpfn_model_95', 'random_rf_pfn_model_96', 'random_tabpfn_model_97', 'random_tabpfn_model_98', 'random_tabpfn_model_99']\n",
            "2025-02-20 03:07:39 INFO     Starting 80-repeated holdout validation with holdout_frac=0.33.\n",
            "2025-02-20 03:07:39 INFO     Set time limit to 30 seconds. We will early stop validation if needed.\n",
            "2025-02-20 03:07:39 INFO     Yield data for model default_tabpfn_model_0 and split 0 (repeat=1).\n",
            "2025-02-20 03:07:41 INFO     Yield data for model random_tabpfn_model_1 and split 0 (repeat=1).\n",
            "2025-02-20 03:07:43 INFO     Yield data for model random_rf_pfn_model_2 and split 0 (repeat=1).\n",
            "2025-02-20 03:08:44 INFO     Time limit reached.\n",
            "2025-02-20 03:08:44 INFO     Stop validation of all models after 3 models in repeat 1.\n",
            "2025-02-20 03:08:44 INFO     As this is the first repeat, we trim down the models to all so-far run models!\n",
            "2025-02-20 03:08:44 INFO     Order of selections: [0, 0, 0, 0, 0, 0, 0, 0, 0, 0, 1, 0, 0, 0, 0, 0, 0, 0, 0, 0, 1, 0, 0, 0, 0]\n",
            "2025-02-20 03:08:44 INFO     Val loss over iterations: [-0.9911858974358975, -0.9911858974358975, -0.9911858974358975, -0.9911858974358975, -0.9911858974358975, -0.9911858974358975, -0.9911858974358975, -0.9911858974358975, -0.9911858974358975, -0.9911858974358975, -0.9911858974358975, -0.9911858974358975, -0.9911858974358975, -0.9911858974358975, -0.9911858974358975, -0.9911858974358975, -0.9911858974358975, -0.9911858974358975, -0.9911858974358975, -0.9911858974358975, -0.9911858974358975, -0.9911858974358975, -0.9911858974358975, -0.9911858974358975, -0.9911858974358975]\n",
            "2025-02-20 03:08:44 INFO     Model losses: [-0.9911859  -0.98958333 -0.98798077]\n",
            "2025-02-20 03:08:44 INFO     Best weights: [1. 0. 0.]\n"
          ]
        },
        {
          "name": "stdout",
          "output_type": "stream",
          "text": [
            "ROC AUC: 0.9967928950289873\n",
            "Accuracy 0.973404255319149\n"
          ]
        }
      ],
      "source": [
        "import sys\n",
        "sys.path.append(os.path.abspath(\"/openbayes/home/NEW/rebuild_adrd/baseline/TabPFN\"))\n",
        "from tabpfn_extensions.post_hoc_ensembles.sklearn_interface import AutoTabPFNClassifier\n",
        "\n",
        "# Binary\n",
        "X, y = load_breast_cancer(return_X_y=True)\n",
        "X_train, X_test, y_train, y_test = train_test_split(\n",
        "    X, y, test_size=0.33, random_state=42\n",
        ")\n",
        "clf = AutoTabPFNClassifier(max_time=30) # runs for 30 seconds, longer ensembling time leads to better results\n",
        "clf.fit(X_train, y_train)\n",
        "prediction_probabilities = clf.predict_proba(X_test)\n",
        "predictions = np.argmax(prediction_probabilities, axis=-1)\n",
        "\n",
        "print(\"ROC AUC:\", roc_auc_score(y_test, prediction_probabilities[:, 1]))\n",
        "print(\"Accuracy\", accuracy_score(y_test, predictions))"
      ]
    },
    {
      "cell_type": "markdown",
      "metadata": {
        "id": "ipG2Cpb7Jrc7"
      },
      "source": [
        "## Regression\n",
        "\n",
        "We now compare the regression performance of TabPFN, [XGBoost](https://xgboost.readthedocs.io/en/stable/), and [CatBoost](https://catboost.ai/) on the toy data from scikit-learn.\n",
        "\n",
        "We measure regression performance using [Root Mean Squared Error](https://scikit-learn.org/1.5/modules/generated/sklearn.metrics.root_mean_squared_error.html)."
      ]
    },
    {
      "cell_type": "code",
      "execution_count": null,
      "metadata": {
        "id": "RUEZltVXLVd1"
      },
      "outputs": [
        {
          "name": "stderr",
          "output_type": "stream",
          "text": [
            "/tmp/ipykernel_222011/248323386.py:35: SettingWithCopyWarning: \n",
            "A value is trying to be set on a copy of a slice from a DataFrame.\n",
            "Try using .loc[row_indexer,col_indexer] = value instead\n",
            "\n",
            "See the caveats in the documentation: https://pandas.pydata.org/pandas-docs/stable/user_guide/indexing.html#returning-a-view-versus-a-copy\n",
            "  X[col] = pd.factorize(X[col])[0]  # Factorize encodes as integers\n"
          ]
        },
        {
          "data": {
            "text/markdown": [
              "**Author**:   \n",
              "**Source**: Unknown - Date unknown  \n",
              "**Please cite**:   \n",
              "\n",
              "The Boston house-price data of Harrison, D. and Rubinfeld, D.L. 'Hedonic\n",
              "prices and the demand for clean air', J. Environ. Economics & Management,\n",
              "vol.5, 81-102, 1978.   Used in Belsley, Kuh & Welsch, 'Regression diagnostics\n",
              "...', Wiley, 1980.   N.B. Various transformations are used in the table on\n",
              "pages 244-261 of the latter.\n",
              "Variables in order:\n",
              "CRIM     per capita crime rate by town\n",
              "ZN       proportion of residential land zoned for lots over 25,000 sq.ft.\n",
              "INDUS    proportion of non-retail business acres per town\n",
              "CHAS     Charles River dummy variable (= 1 if tract bounds river; 0 otherwise)\n",
              "NOX      nitric oxides concentration (parts per 10 million)\n",
              "RM       average number of rooms per dwelling\n",
              "AGE      proportion of owner-occupied units built prior to 1940\n",
              "DIS      weighted distances to five Boston employment centres\n",
              "RAD      index of accessibility to radial highways\n",
              "TAX      full-value property-tax rate per $10,000\n",
              "PTRATIO  pupil-teacher ratio by town\n",
              "B        1000(Bk - 0.63)^2 where Bk is the proportion of blacks by town\n",
              "LSTAT    % lower status of the population\n",
              "MEDV     Median value of owner-occupied homes in $1000's\n",
              "\n",
              "\n",
              "Information about the dataset\n",
              "CLASSTYPE: numeric\n",
              "CLASSINDEX: last\n",
              "\n",
              "Downloaded from openml.org."
            ],
            "text/plain": [
              "<IPython.core.display.Markdown object>"
            ]
          },
          "metadata": {},
          "output_type": "display_data"
        },
        {
          "data": {
            "text/html": [
              "<div>\n",
              "<style scoped>\n",
              "    .dataframe tbody tr th:only-of-type {\n",
              "        vertical-align: middle;\n",
              "    }\n",
              "\n",
              "    .dataframe tbody tr th {\n",
              "        vertical-align: top;\n",
              "    }\n",
              "\n",
              "    .dataframe thead th {\n",
              "        text-align: right;\n",
              "    }\n",
              "</style>\n",
              "<table border=\"1\" class=\"dataframe\">\n",
              "  <thead>\n",
              "    <tr style=\"text-align: right;\">\n",
              "      <th></th>\n",
              "      <th>CRIM</th>\n",
              "      <th>ZN</th>\n",
              "      <th>INDUS</th>\n",
              "      <th>CHAS</th>\n",
              "      <th>NOX</th>\n",
              "      <th>RM</th>\n",
              "      <th>AGE</th>\n",
              "      <th>DIS</th>\n",
              "      <th>RAD</th>\n",
              "      <th>TAX</th>\n",
              "      <th>PTRATIO</th>\n",
              "      <th>B</th>\n",
              "      <th>LSTAT</th>\n",
              "    </tr>\n",
              "  </thead>\n",
              "  <tbody>\n",
              "    <tr>\n",
              "      <th>0</th>\n",
              "      <td>0.00632</td>\n",
              "      <td>18.0</td>\n",
              "      <td>2.31</td>\n",
              "      <td>0</td>\n",
              "      <td>0.538</td>\n",
              "      <td>6.575</td>\n",
              "      <td>65.2</td>\n",
              "      <td>4.0900</td>\n",
              "      <td>0</td>\n",
              "      <td>296.0</td>\n",
              "      <td>15.3</td>\n",
              "      <td>396.90</td>\n",
              "      <td>4.98</td>\n",
              "    </tr>\n",
              "    <tr>\n",
              "      <th>1</th>\n",
              "      <td>0.02731</td>\n",
              "      <td>0.0</td>\n",
              "      <td>7.07</td>\n",
              "      <td>0</td>\n",
              "      <td>0.469</td>\n",
              "      <td>6.421</td>\n",
              "      <td>78.9</td>\n",
              "      <td>4.9671</td>\n",
              "      <td>1</td>\n",
              "      <td>242.0</td>\n",
              "      <td>17.8</td>\n",
              "      <td>396.90</td>\n",
              "      <td>9.14</td>\n",
              "    </tr>\n",
              "    <tr>\n",
              "      <th>2</th>\n",
              "      <td>0.02729</td>\n",
              "      <td>0.0</td>\n",
              "      <td>7.07</td>\n",
              "      <td>0</td>\n",
              "      <td>0.469</td>\n",
              "      <td>7.185</td>\n",
              "      <td>61.1</td>\n",
              "      <td>4.9671</td>\n",
              "      <td>1</td>\n",
              "      <td>242.0</td>\n",
              "      <td>17.8</td>\n",
              "      <td>392.83</td>\n",
              "      <td>4.03</td>\n",
              "    </tr>\n",
              "    <tr>\n",
              "      <th>3</th>\n",
              "      <td>0.03237</td>\n",
              "      <td>0.0</td>\n",
              "      <td>2.18</td>\n",
              "      <td>0</td>\n",
              "      <td>0.458</td>\n",
              "      <td>6.998</td>\n",
              "      <td>45.8</td>\n",
              "      <td>6.0622</td>\n",
              "      <td>2</td>\n",
              "      <td>222.0</td>\n",
              "      <td>18.7</td>\n",
              "      <td>394.63</td>\n",
              "      <td>2.94</td>\n",
              "    </tr>\n",
              "    <tr>\n",
              "      <th>4</th>\n",
              "      <td>0.06905</td>\n",
              "      <td>0.0</td>\n",
              "      <td>2.18</td>\n",
              "      <td>0</td>\n",
              "      <td>0.458</td>\n",
              "      <td>7.147</td>\n",
              "      <td>54.2</td>\n",
              "      <td>6.0622</td>\n",
              "      <td>2</td>\n",
              "      <td>222.0</td>\n",
              "      <td>18.7</td>\n",
              "      <td>396.90</td>\n",
              "      <td>5.33</td>\n",
              "    </tr>\n",
              "    <tr>\n",
              "      <th>...</th>\n",
              "      <td>...</td>\n",
              "      <td>...</td>\n",
              "      <td>...</td>\n",
              "      <td>...</td>\n",
              "      <td>...</td>\n",
              "      <td>...</td>\n",
              "      <td>...</td>\n",
              "      <td>...</td>\n",
              "      <td>...</td>\n",
              "      <td>...</td>\n",
              "      <td>...</td>\n",
              "      <td>...</td>\n",
              "      <td>...</td>\n",
              "    </tr>\n",
              "    <tr>\n",
              "      <th>501</th>\n",
              "      <td>0.06263</td>\n",
              "      <td>0.0</td>\n",
              "      <td>11.93</td>\n",
              "      <td>0</td>\n",
              "      <td>0.573</td>\n",
              "      <td>6.593</td>\n",
              "      <td>69.1</td>\n",
              "      <td>2.4786</td>\n",
              "      <td>0</td>\n",
              "      <td>273.0</td>\n",
              "      <td>21.0</td>\n",
              "      <td>391.99</td>\n",
              "      <td>9.67</td>\n",
              "    </tr>\n",
              "    <tr>\n",
              "      <th>502</th>\n",
              "      <td>0.04527</td>\n",
              "      <td>0.0</td>\n",
              "      <td>11.93</td>\n",
              "      <td>0</td>\n",
              "      <td>0.573</td>\n",
              "      <td>6.120</td>\n",
              "      <td>76.7</td>\n",
              "      <td>2.2875</td>\n",
              "      <td>0</td>\n",
              "      <td>273.0</td>\n",
              "      <td>21.0</td>\n",
              "      <td>396.90</td>\n",
              "      <td>9.08</td>\n",
              "    </tr>\n",
              "    <tr>\n",
              "      <th>503</th>\n",
              "      <td>0.06076</td>\n",
              "      <td>0.0</td>\n",
              "      <td>11.93</td>\n",
              "      <td>0</td>\n",
              "      <td>0.573</td>\n",
              "      <td>6.976</td>\n",
              "      <td>91.0</td>\n",
              "      <td>2.1675</td>\n",
              "      <td>0</td>\n",
              "      <td>273.0</td>\n",
              "      <td>21.0</td>\n",
              "      <td>396.90</td>\n",
              "      <td>5.64</td>\n",
              "    </tr>\n",
              "    <tr>\n",
              "      <th>504</th>\n",
              "      <td>0.10959</td>\n",
              "      <td>0.0</td>\n",
              "      <td>11.93</td>\n",
              "      <td>0</td>\n",
              "      <td>0.573</td>\n",
              "      <td>6.794</td>\n",
              "      <td>89.3</td>\n",
              "      <td>2.3889</td>\n",
              "      <td>0</td>\n",
              "      <td>273.0</td>\n",
              "      <td>21.0</td>\n",
              "      <td>393.45</td>\n",
              "      <td>6.48</td>\n",
              "    </tr>\n",
              "    <tr>\n",
              "      <th>505</th>\n",
              "      <td>0.04741</td>\n",
              "      <td>0.0</td>\n",
              "      <td>11.93</td>\n",
              "      <td>0</td>\n",
              "      <td>0.573</td>\n",
              "      <td>6.030</td>\n",
              "      <td>80.8</td>\n",
              "      <td>2.5050</td>\n",
              "      <td>0</td>\n",
              "      <td>273.0</td>\n",
              "      <td>21.0</td>\n",
              "      <td>396.90</td>\n",
              "      <td>7.88</td>\n",
              "    </tr>\n",
              "  </tbody>\n",
              "</table>\n",
              "<p>506 rows × 13 columns</p>\n",
              "</div>"
            ],
            "text/plain": [
              "        CRIM    ZN  INDUS  CHAS    NOX     RM   AGE     DIS  RAD    TAX  \\\n",
              "0    0.00632  18.0   2.31     0  0.538  6.575  65.2  4.0900    0  296.0   \n",
              "1    0.02731   0.0   7.07     0  0.469  6.421  78.9  4.9671    1  242.0   \n",
              "2    0.02729   0.0   7.07     0  0.469  7.185  61.1  4.9671    1  242.0   \n",
              "3    0.03237   0.0   2.18     0  0.458  6.998  45.8  6.0622    2  222.0   \n",
              "4    0.06905   0.0   2.18     0  0.458  7.147  54.2  6.0622    2  222.0   \n",
              "..       ...   ...    ...   ...    ...    ...   ...     ...  ...    ...   \n",
              "501  0.06263   0.0  11.93     0  0.573  6.593  69.1  2.4786    0  273.0   \n",
              "502  0.04527   0.0  11.93     0  0.573  6.120  76.7  2.2875    0  273.0   \n",
              "503  0.06076   0.0  11.93     0  0.573  6.976  91.0  2.1675    0  273.0   \n",
              "504  0.10959   0.0  11.93     0  0.573  6.794  89.3  2.3889    0  273.0   \n",
              "505  0.04741   0.0  11.93     0  0.573  6.030  80.8  2.5050    0  273.0   \n",
              "\n",
              "     PTRATIO       B  LSTAT  \n",
              "0       15.3  396.90   4.98  \n",
              "1       17.8  396.90   9.14  \n",
              "2       17.8  392.83   4.03  \n",
              "3       18.7  394.63   2.94  \n",
              "4       18.7  396.90   5.33  \n",
              "..       ...     ...    ...  \n",
              "501     21.0  391.99   9.67  \n",
              "502     21.0  396.90   9.08  \n",
              "503     21.0  396.90   5.64  \n",
              "504     21.0  393.45   6.48  \n",
              "505     21.0  396.90   7.88  \n",
              "\n",
              "[506 rows x 13 columns]"
            ]
          },
          "metadata": {},
          "output_type": "display_data"
        }
      ],
      "source": [
        "# Boston Housing dataset\n",
        "# Regression task: Predict house prices\n",
        "# Features: Neighborhood characteristics, housing attributes\n",
        "# Samples: 506 neighborhoods\n",
        "# Target: Median house value in $1000s\n",
        "df = fetch_openml(data_id=531, as_frame=True)\n",
        "\n",
        "# Alternative datasets (commented for reference):\n",
        "\n",
        "# Liver Disorders dataset\n",
        "# Classification task: Predict liver disorder presence\n",
        "# Features: Blood test results, alcohol consumption\n",
        "# Samples: 345 patients\n",
        "# Target: Binary liver disorder diagnosis\n",
        "# df = fetch_openml(\"liver-disorders\", version=1)\n",
        "\n",
        "# Grid Stability dataset\n",
        "# Regression task: Predict electrical grid stability\n",
        "# Features: Power system measurements, grid parameters\n",
        "# Samples: 10,000 simulations\n",
        "# Target: Grid stability score\n",
        "#df = fetch_openml(data_id=44973, as_frame=True)\n",
        "\n",
        "# Concrete Compressive Strength dataset\n",
        "# Regression task: Predict concrete strength\n",
        "# Features: Concrete components (cement, water, aggregates)\n",
        "# Samples: 1,030 concrete samples\n",
        "# Target: Compressive strength in MPa\n",
        "#df = fetch_openml(data_id=44959, as_frame=True)\n",
        "\n",
        "X, y = df.data, df.target\n",
        "\n",
        "# Convert all 'object' and 'category' columns to numeric\n",
        "for col in X.select_dtypes(['object', 'category']).columns:\n",
        "    X[col] = pd.factorize(X[col])[0]  # Factorize encodes as integers\n",
        "\n",
        "X_train, X_test, y_train, y_test = train_test_split(X, y, test_size=0.33, random_state=42)\n",
        "\n",
        "# Print dataset description\n",
        "display(Markdown(df['DESCR']))\n",
        "\n",
        "display(X)"
      ]
    },
    {
      "cell_type": "code",
      "execution_count": null,
      "metadata": {
        "id": "rWqC16PL7R_T"
      },
      "outputs": [
        {
          "name": "stdout",
          "output_type": "stream",
          "text": [
            "TabPFN RMSE: 2.6107\n"
          ]
        }
      ],
      "source": [
        "# Train and evaluate TabPFN\n",
        "reg = TabPFNRegressor(random_state=42)\n",
        "reg.fit(X_train, y_train)\n",
        "y_pred = reg.predict(X_test)\n",
        "\n",
        "# Calculate Variance Explained (R2 Score)\n",
        "score = root_mean_squared_error(y_test, y_pred)\n",
        "print(f\"TabPFN RMSE: {score:.4f}\")"
      ]
    },
    {
      "cell_type": "code",
      "execution_count": null,
      "metadata": {
        "id": "QvgACKVcKQTR"
      },
      "outputs": [
        {
          "data": {
            "text/plain": [
              "Text(0.5, 1.0, 'Model Comparison - 5-fold Cross-validation \\n (Root Mean Squared Error - Smaller is better)')"
            ]
          },
          "execution_count": 11,
          "metadata": {},
          "output_type": "execute_result"
        },
        {
          "data": {
            "image/png": "[encoded data removed]",
            "text/plain": [
              "<Figure size 1000x600 with 1 Axes>"
            ]
          },
          "metadata": {},
          "output_type": "display_data"
        }
      ],
      "source": [
        "# Compare different machine learning models by training each one multiple times\n",
        "# on different parts of the data and averaging their performance scores for a\n",
        "# more reliable performance estimate\n",
        "\n",
        "# Define models\n",
        "models = [\n",
        "    ('TabPFN', TabPFNRegressor(random_state=42)),\n",
        "    ('RandomForest', RandomForestRegressor(random_state=42)),\n",
        "    ('XGBoost', XGBRegressor(random_state=42)),\n",
        "    ('CatBoost', CatBoostRegressor(random_state=42, verbose=0))\n",
        "]\n",
        "\n",
        "# Calculate scores\n",
        "scoring = 'neg_root_mean_squared_error'\n",
        "scores = {name: cross_val_score(model, X, y, cv=5, scoring=scoring, n_jobs=-1).mean()\n",
        "          for name, model in models}\n",
        "\n",
        "\n",
        "# Plot results\n",
        "df = pd.DataFrame(list(scores.items()), columns=['Model', 'RMSE'])\n",
        "df.RMSE = -df.RMSE # Smaller is better\n",
        "ax = df.plot(x='Model', y='RMSE', kind='bar', figsize=(10, 6))\n",
        "ax.set_ylim(df['RMSE'].min() * 0.99, df['RMSE'].max() * 1.01)\n",
        "ax.set_title('Model Comparison - 5-fold Cross-validation \\n (Root Mean Squared Error - Smaller is better)')"
      ]
    },
    {
      "cell_type": "markdown",
      "metadata": {
        "id": "6SCiqo0Oi0e1"
      },
      "source": [
        "### Best Quality Models (Recommended Use) - Post Hoc Ensembles"
      ]
    },
    {
      "cell_type": "code",
      "execution_count": null,
      "metadata": {
        "id": "nqwwsVPGiqiY"
      },
      "outputs": [
        {
          "ename": "ModuleNotFoundError",
          "evalue": "No module named 'tabpfn_community'",
          "output_type": "error",
          "traceback": [
            "\u001b[0;31m---------------------------------------------------------------------------\u001b[0m",
            "\u001b[0;31mModuleNotFoundError\u001b[0m                       Traceback (most recent call last)",
            "Cell \u001b[0;32mIn[12], line 3\u001b[0m\n\u001b[1;32m      1\u001b[0m \u001b[38;5;28;01mimport\u001b[39;00m \u001b[38;5;21;01msys\u001b[39;00m\n\u001b[1;32m      2\u001b[0m sys\u001b[38;5;241m.\u001b[39mpath\u001b[38;5;241m.\u001b[39mappend(os\u001b[38;5;241m.\u001b[39mpath\u001b[38;5;241m.\u001b[39mabspath(\u001b[38;5;124m\"\u001b[39m\u001b[38;5;124m/openbayes/home/NEW/rebuild_adrd/baseline/TabPFN\u001b[39m\u001b[38;5;124m\"\u001b[39m))\n\u001b[0;32m----> 3\u001b[0m \u001b[38;5;28;01mfrom\u001b[39;00m \u001b[38;5;21;01mtabpfn_community\u001b[39;00m\u001b[38;5;21;01m.\u001b[39;00m\u001b[38;5;21;01mpost_hoc_ensembles\u001b[39;00m\u001b[38;5;21;01m.\u001b[39;00m\u001b[38;5;21;01msklearn_interface\u001b[39;00m \u001b[38;5;28;01mimport\u001b[39;00m AutoTabPFNRegressor\n\u001b[1;32m      5\u001b[0m \u001b[38;5;66;03m# Regression\u001b[39;00m\n\u001b[1;32m      6\u001b[0m X, y \u001b[38;5;241m=\u001b[39m load_diabetes(return_X_y\u001b[38;5;241m=\u001b[39m\u001b[38;5;28;01mTrue\u001b[39;00m)\n",
            "\u001b[0;31mModuleNotFoundError\u001b[0m: No module named 'tabpfn_community'"
          ]
        }
      ],
      "source": [
        "import sys\n",
        "sys.path.append(os.path.abspath(\"/openbayes/home/NEW/rebuild_adrd/baseline/TabPFN\"))\n",
        "from tabpfn_community.post_hoc_ensembles.sklearn_interface import AutoTabPFNRegressor\n",
        "\n",
        "# Regression\n",
        "X, y = load_diabetes(return_X_y=True)\n",
        "X_train, X_test, y_train, y_test = train_test_split(\n",
        "    X,\n",
        "    y,\n",
        "    test_size=0.33,\n",
        "    random_state=42,\n",
        ")\n",
        "reg = AutoTabPFNRegressor(max_time=30) # runs for 30 seconds\n",
        "reg.fit(X_train, y_train)\n",
        "predictions = reg.predict(X_test)\n",
        "print(\"Mean Squared Error (MSE):\", mean_squared_error(y_test, predictions))\n",
        "print(\"Mean Absolute Error (MAE):\", mean_absolute_error(y_test, predictions))\n",
        "print(\"R-squared (R^2):\", r2_score(y_test, predictions))"
      ]
    },
    {
      "cell_type": "markdown",
      "metadata": {
        "id": "lmPJW5NSK7ut"
      },
      "source": [
        "# Predictive Behavior of TabPFN\n",
        "\n",
        "In this section, we explore the behavior of predictions from TabPFN on various toy functions."
      ]
    },
    {
      "cell_type": "markdown",
      "metadata": {
        "id": "ZBeID4YeMQ9L"
      },
      "source": [
        "## Decision Boundary during Classification\n",
        "\n",
        "First, let us inspect the decision boundary for different classifiers.\n",
        "The decision bounds show how smoothly a model learns to transition between classes and how well it fits the data.\n",
        "\n",
        "In the first cell, we create the data and code to plot the decision boundary. The second cell then generates the plot."
      ]
    },
    {
      "cell_type": "code",
      "execution_count": null,
      "metadata": {
        "id": "B5a_ia0OLOxG"
      },
      "outputs": [],
      "source": [
        "# Toy functions that generate the data\n",
        "def generate_circle(n_datapoints, radius, noise_factor):\n",
        "    angles = np.linspace(0, 2*np.pi, n_datapoints).T\n",
        "    x = radius * np.cos(angles) + np.random.randn(n_datapoints) * noise_factor\n",
        "    y = radius * np.sin(angles) + np.random.randn(n_datapoints) * noise_factor\n",
        "\n",
        "    return np.stack([x, y]).T\n",
        "\n",
        "def generate_concentric_cirlces(radii, num_points_per_circle, noise_factor=1/15):\n",
        "    circles = []\n",
        "    for r, num_points in zip(radii, num_points_per_circle):\n",
        "        circles.append(generate_circle(num_points, r, noise_factor))\n",
        "\n",
        "    circle = np.vstack(circles)\n",
        "    return circle\n",
        "\n",
        "def generate_circle_data(num_points_per_circle, radii, noise_factor):\n",
        "    radii = np.array(radii)\n",
        "    circles_1 = generate_concentric_cirlces(radii, num_points_per_circle, noise_factor)\n",
        "    circles_1 = np.hstack([circles_1, np.zeros((sum(num_points_per_circle) , 1))])\n",
        "\n",
        "    circles_2 = generate_concentric_cirlces(radii + 0.3, num_points_per_circle, noise_factor)\n",
        "    circles_2 = np.hstack([circles_2, np.ones((sum(num_points_per_circle), 1))])\n",
        "\n",
        "    circles = np.vstack([circles_1, circles_2])\n",
        "    X, y = circles[:, :2], circles[:, 2]\n",
        "    return X, y\n",
        "\n",
        "# Generate the data\n",
        "X_train, y_train = generate_circle_data(\n",
        "  num_points_per_circle=[50, 100, 200],\n",
        "  radii=[1,2,4],\n",
        "  noise_factor=0.1\n",
        ")\n",
        "\n",
        "# Function for plotting\n",
        "def plot_decision_boundary(ax, model, model_name):\n",
        "    cmap = ListedColormap([\"#FF0000\", \"#0000FF\"])\n",
        "    ax.set_title(model_name)\n",
        "    DecisionBoundaryDisplay.from_estimator(\n",
        "        model, X_train[:, :2], alpha=0.6, ax=ax, eps=0.2, grid_resolution=50, response_method=\"predict_proba\", cmap=plt.cm.RdBu,\n",
        "    )\n",
        "    ax.scatter(X_train[:, 0], X_train[:, 1], c=y_train > 0, cmap=cmap)"
      ]
    },
    {
      "cell_type": "code",
      "execution_count": null,
      "metadata": {
        "id": "wzrSEZR5LYlf"
      },
      "outputs": [],
      "source": [
        "rf = RandomForestClassifier().fit(X_train[:, :2], y_train)\n",
        "xgb = XGBClassifier().fit(X_train[:, :2], y_train)\n",
        "tabpfn = TabPFNClassifier().fit(X_train[:, :2], y_train)\n",
        "\n",
        "# Create a 2x2 subplot layout\n",
        "fig, axes = plt.subplots(2, 2, figsize=(7,7))\n",
        "\n",
        "# Plot Train Points\n",
        "ax_points = axes[0, 0]\n",
        "ax_points.set_title(\"Train points\")\n",
        "ax_points.scatter(X_train[:, 0], X_train[:, 1], c=y_train, cmap=ListedColormap([\"#FF0000\", \"#0000FF\"]))\n",
        "\n",
        "# Plot Random Forest\n",
        "ax_rf = axes[0, 1]\n",
        "plot_decision_boundary(ax_rf, rf, \"Random Forest\")\n",
        "\n",
        "# Plot XGBoost\n",
        "ax_xgb = axes[1, 0]\n",
        "plot_decision_boundary(ax_xgb, xgb, \"XGBoost\")\n",
        "\n",
        "# Plot TabPFN\n",
        "ax_tabpfn = axes[1, 1]\n",
        "plot_decision_boundary(ax_tabpfn, tabpfn, \"TabPFN\")\n",
        "\n",
        "# Adjust layout for better spacing\n",
        "plt.tight_layout()\n",
        "plt.show()"
      ]
    },
    {
      "cell_type": "markdown",
      "metadata": {
        "id": "8tvOmmiOOT4o"
      },
      "source": [
        "## Sin Curve Fitting with Regression\n",
        "\n",
        "Next, we investigate the curve-fitting behavior of the different models on a sin curve."
      ]
    },
    {
      "cell_type": "code",
      "execution_count": null,
      "metadata": {
        "id": "f_6wB1N2OrYu"
      },
      "outputs": [],
      "source": [
        "# Toy function to generate data\n",
        "def generate_sinx_plus_x(N):\n",
        "    x = np.linspace(0, 20, N)\n",
        "    y = np.sin(x) + x/10\n",
        "\n",
        "    return x.reshape(-1, 1), y\n",
        "\n",
        "# Utility function for plotting\n",
        "def plot_predictions(ax, model, model_name):\n",
        "    X_test = np.linspace(0, 20, 200).reshape(-1, 1) # Predict for 200 points  between 0 and 20\n",
        "    y_preds = model.predict(X_test)\n",
        "    ax.set_title(model_name)\n",
        "    ax.scatter(X_test, y_preds, label=\"Predictions\")\n",
        "    ax.scatter(X_train, y_train, label=\"Train points\")\n",
        "    ax.legend()\n",
        "\n",
        "# Generate data\n",
        "X_train, y_train = generate_sinx_plus_x(N=40)\n",
        "\n",
        "# Fit Models\n",
        "rf = RandomForestRegressor(random_state=42).fit(X_train, y_train)\n",
        "xgb = XGBRegressor(random_state=42).fit(X_train, y_train)\n",
        "tabpfn = TabPFNRegressor()\n",
        "tabpfn.fit(X_train, y_train)\n",
        "\n",
        "# Create a 2x2 subplot layout\n",
        "fig, axs = plt.subplots(2, 2, figsize=(14, 12))\n",
        "\n",
        "# Plot train points\n",
        "ax_points = axs[0, 0]\n",
        "ax_points.set_title(\"Train points\")\n",
        "ax_points.scatter(X_train, y_train, label=\"Train points\")\n",
        "ax_points.legend()\n",
        "\n",
        "# Plot predictions for Random Forest\n",
        "ax_rf = axs[0, 1]\n",
        "plot_predictions(ax_rf, rf, \"Random Forest\")\n",
        "\n",
        "# Plot predictions for XGBoost\n",
        "ax_xgb = axs[1, 0]\n",
        "plot_predictions(ax_xgb, xgb, \"XGBoost\")\n",
        "\n",
        "# Plot predictions for TabPFN\n",
        "ax_tabpfn = axs[1, 1]\n",
        "plot_predictions(ax_tabpfn, tabpfn, \"TabPFN\")\n",
        "\n",
        "# Adjust layout for better spacing\n",
        "plt.tight_layout()\n",
        "plt.show()"
      ]
    },
    {
      "cell_type": "markdown",
      "metadata": {
        "id": "XcYaJKT_Pw6T"
      },
      "source": [
        "## Uncertainty of TabPFN / Quantile Regresison\n",
        "\n",
        "---\n",
        "\n",
        "\n",
        "\n",
        "TabPFN is trained to predict the distribution of the target variable and not just a single point. This is also the case for regression.\n",
        "\n",
        "As a result, we natively obtain uncertainty for the predictions of TabPFN (without the need for a new model or repeating models for different quantiles).\n",
        "\n",
        "In the following, we plot the uncertainty of TabPFN for a toy function with noise."
      ]
    },
    {
      "cell_type": "code",
      "execution_count": null,
      "metadata": {
        "id": "5bLSS-84QUw6"
      },
      "outputs": [],
      "source": [
        "### Code to generate the plot (feel free to ignore)\n",
        "def plot_regression_uncertainty(ax, x, y_line, y_noisy, x_test, full_preds, color_multiplier=5):\n",
        "  all_quantiles = preds[f\"quantiles\"]\n",
        "  y = np.array(all_quantiles) # shape of y: (9, number of samples)\n",
        "\n",
        "  # Calculate the maximum and minimum values in y\n",
        "  y_max = np.max(y, axis=0)\n",
        "  y_min = np.min(y, axis=0)\n",
        "\n",
        "  # Calculate the widths of each quantile bin\n",
        "  quantile_bin_widths = np.diff(y, axis=0) # shape of quantile_bin_widths: (8, number of samples)\n",
        "\n",
        "  # Normalize the bin widths for a given x\n",
        "  per_x_normalized_bin_widths = (quantile_bin_widths) / (y_max - y_min)\n",
        "\n",
        "  # Plotting\n",
        "  num_bins, num_data_points = per_x_normalized_bin_widths.shape[0], per_x_normalized_bin_widths.shape[1]\n",
        "  rect_width = (x_test[1] - x_test[0]).squeeze() # assuming the x query points are equally spaced out\n",
        "\n",
        "  for i in range(num_data_points):\n",
        "      for j in range(num_bins):\n",
        "          rect_height = quantile_bin_widths[j, i]\n",
        "          rect = plt.Rectangle(\n",
        "                    xy=(x_test[i][0] - rect_width / 2, y[j, i]),\n",
        "                    width=rect_width,\n",
        "                    height=quantile_bin_widths[j, i],\n",
        "                    facecolor=plt.cm.viridis(per_x_normalized_bin_widths[j, i] * color_multiplier),\n",
        "                    edgecolor='none'\n",
        "                )\n",
        "          ax.add_patch(rect)\n",
        "\n",
        "  # Set limits and labels\n",
        "  ax.plot(x, y_line, label='True line', color='blue')\n",
        "  ax.set_xlim(min(x_test) - 1, max(x_test) + 1)\n",
        "  ax.set_ylim(np.min(y_noisy) - 1, np.max(y_noisy) + 1)\n",
        "  ax.set_xlabel('X')\n",
        "  ax.set_ylabel('Y')\n",
        "\n",
        "  # ax.plot(x, y, label='True line', color='blue')\n",
        "  ax.scatter(x, y_noisy, label='Noisy data', color='red', s=10)\n",
        "\n",
        "  plt.title('TabPFN Regression Uncertainty')\n",
        "  plt.show()\n",
        "\n",
        "# Generate Data\n",
        "def generate_line_with_heteroscedastic_noise(m=0.8, num_points=200, x_start=0, x_end=100, noise_factor=0.1):\n",
        "    x = np.linspace(x_start, x_end, num_points)\n",
        "    noise = np.random.randn(num_points)\n",
        "    y = m * x\n",
        "    y_noisy = y + (noise * noise_factor * x)\n",
        "\n",
        "    return x.reshape(-1, 1), y, y_noisy\n",
        "\n",
        "def generate_line_with_heteroscedastic_noise_with_gap(m=0.8, num_points=200, x_start=0, x_end=100, noise_factor=0.1):\n",
        "    extra_points = num_points // 3\n",
        "    x, y, y_noisy = generate_line_with_heteroscedastic_noise(m, num_points+extra_points, x_start, x_end, noise_factor)\n",
        "    a = np.arange(num_points + extra_points)\n",
        "    idx = np.where((a < num_points/3) | (a > num_points/3 + extra_points))\n",
        "    return x[idx], y[idx], y_noisy[idx]\n",
        "\n",
        "x, y_line, y_noisy = generate_line_with_heteroscedastic_noise_with_gap(0.8)\n",
        "x_test = np.linspace(0, 100, 200).reshape(-1, 1)"
      ]
    },
    {
      "cell_type": "code",
      "execution_count": null,
      "metadata": {
        "id": "GcKfOXO69eKw"
      },
      "outputs": [],
      "source": [
        "reg = TabPFNRegressor()\n",
        "reg.fit(x, y_noisy)\n",
        "preds = reg.predict(x_test, output_type=\"full\")"
      ]
    },
    {
      "cell_type": "code",
      "execution_count": null,
      "metadata": {
        "id": "BWhVn0IxQiyY"
      },
      "outputs": [],
      "source": [
        "fig = plt.figure(figsize=(12,6))\n",
        "\n",
        "# Plot the original data\n",
        "ax = fig.add_subplot(121)\n",
        "ax.plot(x, y_line, label='True line', color='blue')\n",
        "ax.scatter(x, y_noisy, label='Noisy data', color='red', s=10)\n",
        "ax.set_xlabel('X')\n",
        "ax.set_ylabel('Y')\n",
        "ax.set_xlim(min(x) - 1, max(x) + 1)\n",
        "ax.set_ylim(np.min(y_noisy) - 1, np.max(y_noisy) + 1)\n",
        "ax.set_title('Heteroscedastic Noise along a Sloping Line')\n",
        "ax.legend()\n",
        "\n",
        "# plot the uncertainty estimates obtained from TabPFN\n",
        "ax = fig.add_subplot(122)\n",
        "plot_regression_uncertainty(ax, x, y_line, y_noisy, x_test, preds, color_multiplier=5)"
      ]
    },
    {
      "cell_type": "markdown",
      "metadata": {
        "id": "tmPyEF7LQzwL"
      },
      "source": [
        "## BATMAN\n",
        "\n",
        "Na na na na\n",
        "\n",
        "na na na na\n",
        "\n",
        "na na na na na\n",
        "\n",
        "Batman"
      ]
    },
    {
      "cell_type": "code",
      "execution_count": null,
      "metadata": {
        "id": "u7GV60hsQr7h"
      },
      "outputs": [],
      "source": [
        "# \"Just run this, no questions\" - Batman\n",
        "!wget -nc https://github.com/PriorLabs/TabPFNDemoFiles/raw/main/thebat.npy # download a file we need\n",
        "\n",
        "def sample_random_points(n, array, seed):\n",
        "    np.random.seed(seed)\n",
        "    x, y = np.random.randint(0, array.shape[1], (n,)), np.random.randint(0, array.shape[0], (n,))\n",
        "    return np.vstack((x, y)).T, array[y, x].reshape(-1, 1).flatten()\n",
        "\n",
        "def plot_for_all_models(n_train_points, data_source=\"thebat.npy\", random_state=9001):\n",
        "    # Load the data\n",
        "    data_array = np.load(data_source)\n",
        "    X_train, y_train = sample_random_points(n_train_points, data_array, random_state)\n",
        "\n",
        "    # Fit models\n",
        "    xgb = XGBClassifier(random_state=42).fit(X_train, y_train)\n",
        "    catboost = CatBoostClassifier(random_state=42, verbose=0).fit(X_train, y_train)\n",
        "    tabpfn = TabPFNClassifier()\n",
        "    tabpfn.fit(X_train, y_train)\n",
        "\n",
        "    ####### PLOTTING  #######\n",
        "    cmap = ListedColormap([\"black\", \"yellow\"])\n",
        "    def plot_decision_boundary(ax, model, model_name):\n",
        "        ax.set_title(model_name)\n",
        "        ax.set_aspect(\"equal\")\n",
        "        DecisionBoundaryDisplay.from_estimator(\n",
        "            model, X_train, alpha=0.8, ax=ax, eps=0.2, grid_resolution=50, response_method=\"predict_proba\", cmap=cmap\n",
        "        )\n",
        "        # ax.scatter(X_train[:, 0], X_train[:, 1], c=y_train > 0, cmap=cmap)\n",
        "\n",
        "    fig = plt.figure(figsize=(32,8))\n",
        "\n",
        "    ### Plot Train Points ###\n",
        "    ax_points = fig.add_subplot(141)\n",
        "    ax_points.set_title(f\"Train points ({n_train_points})\")\n",
        "    ax_points.set_aspect(\"equal\")\n",
        "    ax_points.scatter(X_train[:, 0], X_train[:, 1], c=y_train, cmap=cmap)\n",
        "\n",
        "    ### Plot XGBoost ###\n",
        "    ax_xgb = fig.add_subplot(142)\n",
        "    plot_decision_boundary(ax_xgb, xgb, \"XGBoost\")\n",
        "\n",
        "    ### Plot Random Forest ###\n",
        "    ax_catboost = fig.add_subplot(143)\n",
        "    plot_decision_boundary(ax_catboost, catboost, \"CatBoost\")\n",
        "\n",
        "    ### Plot TabPFN ###\n",
        "    ax_tabpfn = fig.add_subplot(144)\n",
        "    plot_decision_boundary(ax_tabpfn, tabpfn, \"TabPFN\")\n",
        "\n",
        "plot_for_all_models(n_train_points=2500, data_source=\"thebat.npy\", random_state=9001)"
      ]
    },
    {
      "cell_type": "markdown",
      "metadata": {
        "id": "6gBTWrF4DgUO"
      },
      "source": [
        "## Random Search"
      ]
    },
    {
      "cell_type": "code",
      "execution_count": null,
      "metadata": {
        "id": "zs1d4h9QDjap"
      },
      "outputs": [],
      "source": [
        "from tabpfn_community.hpo import (\n",
        "    TunedTabPFNRegressor,\n",
        "    TunedTabPFNClassifier,\n",
        ")\n",
        "\n",
        "# Binary\n",
        "X, y = load_breast_cancer(return_X_y=True)\n",
        "X_train, X_test, y_train, y_test = train_test_split(\n",
        "    X, y, test_size=0.33, random_state=42\n",
        ")\n",
        "clf = TunedTabPFNClassifier()\n",
        "clf.fit(X_train, y_train)\n",
        "prediction_probabilities = clf.predict_proba(X_test)\n",
        "predictions = np.argmax(prediction_probabilities, axis=-1)\n",
        "\n",
        "print(\"ROC AUC:\", roc_auc_score(y_test, prediction_probabilities[:, 1]))\n",
        "print(\"Accuracy\", accuracy_score(y_test, predictions))\n",
        "\n",
        "# Multiclass\n",
        "X, y = load_iris(return_X_y=True)\n",
        "X_train, X_test, y_train, y_test = train_test_split(\n",
        "    X,\n",
        "    y,\n",
        "    test_size=0.33,\n",
        "    random_state=42,\n",
        ")\n",
        "clf = TunedTabPFNClassifier()\n",
        "clf.fit(X_train, y_train)\n",
        "prediction_probabilities = clf.predict_proba(X_test)\n",
        "predictions = np.argmax(prediction_probabilities, axis=-1)\n",
        "\n",
        "print(\"ROC AUC:\", roc_auc_score(y_test, prediction_probabilities, multi_class=\"ovr\"))\n",
        "print(\"Accuracy\", accuracy_score(y_test, predictions))\n",
        "\n",
        "# Regression\n",
        "X, y = load_diabetes(return_X_y=True)\n",
        "X_train, X_test, y_train, y_test = train_test_split(\n",
        "    X,\n",
        "    y,\n",
        "    test_size=0.33,\n",
        "    random_state=42,\n",
        ")\n",
        "reg = TunedTabPFNRegressor()\n",
        "reg.fit(X_train, y_train)\n",
        "predictions = reg.predict(X_test)\n",
        "print(\"Mean Squared Error (MSE):\", mean_squared_error(y_test, predictions))\n",
        "print(\"Mean Absolute Error (MAE):\", mean_absolute_error(y_test, predictions))\n",
        "print(\"R-squared (R^2):\", r2_score(y_test, predictions))"
      ]
    },
    {
      "cell_type": "markdown",
      "metadata": {
        "id": "HlJ6pXuhfBE0"
      },
      "source": [
        "# Interpretability"
      ]
    },
    {
      "cell_type": "markdown",
      "metadata": {
        "id": "MqZlQ09WfCe9"
      },
      "source": [
        "## SHAP"
      ]
    },
    {
      "cell_type": "code",
      "execution_count": null,
      "metadata": {
        "id": "8CJtLwWUe-KV"
      },
      "outputs": [],
      "source": [
        "from tabpfn_community import interpretability\n",
        "\n",
        "# Load example dataset\n",
        "data = load_breast_cancer()\n",
        "X, y = data.data, data.target\n",
        "feature_names = data.feature_names\n",
        "n_samples = 50\n",
        "\n",
        "# Split data\n",
        "X_train, X_test, y_train, y_test = train_test_split(\n",
        "    X, y, test_size=0.5\n",
        ")\n",
        "\n",
        "# Initialize and train model\n",
        "clf = TabPFNClassifier()\n",
        "clf.fit(X_train, y_train)\n",
        "\n",
        "# Calculate SHAP values\n",
        "shap_values = interpretability.shap.get_shap_values(\n",
        "    estimator=clf,\n",
        "    test_x=X_test[:n_samples],\n",
        "    attribute_names=feature_names,\n",
        "    algorithm=\"permutation\",\n",
        ")\n",
        "\n",
        "# Create visualization\n",
        "fig = interpretability.shap.plot_shap(shap_values)\n"
      ]
    },
    {
      "cell_type": "markdown",
      "metadata": {
        "id": "PkphS4vSFNvg"
      },
      "source": [
        "## Feature selection"
      ]
    },
    {
      "cell_type": "code",
      "execution_count": null,
      "metadata": {
        "id": "GPJtNDLnFPPW"
      },
      "outputs": [],
      "source": [
        "from tabpfn_community import interpretability\n",
        "\n",
        "# Load data\n",
        "data = load_breast_cancer()\n",
        "X, y = data.data, data.target\n",
        "feature_names = data.feature_names\n",
        "\n",
        "# Initialize model\n",
        "clf = TabPFNClassifier(n_estimators=3)\n",
        "\n",
        "# Feature selection\n",
        "sfs = interpretability.feature_selection.feature_selection(\n",
        "    estimator=clf,\n",
        "    X=X,\n",
        "    y=y,\n",
        "    n_features_to_select=5,\n",
        "    feature_names=feature_names\n",
        ")\n",
        "\n",
        "# Print selected features\n",
        "selected_features = [feature_names[i] for i in range(len(feature_names)) if sfs.get_support()[i]]\n",
        "print(\"\\nSelected features:\")\n",
        "for feature in selected_features:\n",
        "    print(f\"- {feature}\")"
      ]
    },
    {
      "cell_type": "markdown",
      "metadata": {
        "id": "U7fb0PtH4qAs"
      },
      "source": [
        "# Unsupervised"
      ]
    },
    {
      "cell_type": "markdown",
      "metadata": {
        "id": "ghZddJXFa4zE"
      },
      "source": [
        "## Data Generation / Outlier Detection"
      ]
    },
    {
      "cell_type": "code",
      "execution_count": null,
      "metadata": {
        "id": "npJnFdtTa_nS"
      },
      "outputs": [],
      "source": [
        "from tabpfn_community import unsupervised\n",
        "\n",
        "# Load and prepare breast cancer dataset\n",
        "df = load_breast_cancer(return_X_y=False)\n",
        "X, y = df['data'], df['target']\n",
        "feature_names = df['feature_names']\n",
        "\n",
        "# Initialize TabPFN models\n",
        "model_unsupervised = unsupervised.TabPFNUnsupervisedModel(\n",
        "    tabpfn_clf=TabPFNClassifier(),\n",
        "    tabpfn_reg=TabPFNRegressor()\n",
        ")\n",
        "\n",
        "# Select features for synthetic data generation\n",
        "# Example features: [mean texture, mean area, mean concavity]\n",
        "feature_indices = [4, 6, 12]\n",
        "\n",
        "# Run synthetic data generation experiment\n",
        "experiment = unsupervised.experiments.GenerateSyntheticDataExperiment(\n",
        "    task_type='unsupervised'\n",
        ")\n",
        "\n",
        "results = experiment.run(\n",
        "    tabpfn=model_unsupervised,\n",
        "    X=torch.tensor(X),\n",
        "    y=torch.tensor(y),\n",
        "    attribute_names=feature_names,\n",
        "    temp=1.0,  # Temperature parameter for sampling\n",
        "    n_samples=X.shape[0] * 2,  # Generate twice as many samples as original data\n",
        "    indices=feature_indices\n",
        ")"
      ]
    },
    {
      "cell_type": "markdown",
      "metadata": {
        "id": "_aoNg2_K4k6E"
      },
      "source": [
        "## Outlier detection"
      ]
    },
    {
      "cell_type": "code",
      "execution_count": null,
      "metadata": {
        "id": "ezircAHiZSKG"
      },
      "outputs": [],
      "source": [
        "import torch\n",
        "from sklearn.datasets import load_breast_cancer\n",
        "from tabpfn_community import unsupervised\n",
        "from tabpfn_community import TabPFNClassifier, TabPFNRegressor\n",
        "\n",
        "# Load data\n",
        "df = load_breast_cancer(return_X_y=False)\n",
        "X, y = df[\"data\"], df[\"target\"]\n",
        "attribute_names = df[\"feature_names\"]\n",
        "\n",
        "# Initialize models\n",
        "clf = TabPFNClassifier(n_estimators=4)\n",
        "reg = TabPFNRegressor(n_estimators=4)\n",
        "model_unsupervised = unsupervised.TabPFNUnsupervisedModel(\n",
        "    tabpfn_clf=clf, tabpfn_reg=reg\n",
        ")\n",
        "\n",
        "# Run outlier detection\n",
        "exp_outlier = unsupervised.experiments.OutlierDetectionUnsupervisedExperiment(\n",
        "    task_type=\"unsupervised\"\n",
        ")\n",
        "results = exp_outlier.run(\n",
        "    tabpfn=model_unsupervised,\n",
        "    X=torch.tensor(X),\n",
        "    y=torch.tensor(y),\n",
        "    attribute_names=attribute_names,\n",
        "    indices=[4, 12],  # Analyze features 4 and 12\n",
        ")"
      ]
    }
  ],
  "metadata": {
    "accelerator": "GPU",
    "colab": {
      "collapsed_sections": [
        "6SCiqo0Oi0e1",
        "lmPJW5NSK7ut",
        "8tvOmmiOOT4o",
        "XcYaJKT_Pw6T",
        "tmPyEF7LQzwL",
        "6gBTWrF4DgUO",
        "HlJ6pXuhfBE0",
        "PkphS4vSFNvg",
        "U7fb0PtH4qAs",
        "ghZddJXFa4zE"
      ],
      "gpuType": "T4",
      "provenance": [],
      "toc_visible": true
    },
    "kernelspec": {
      "display_name": "LMTDE",
      "language": "python",
      "name": "python3"
    },
    "language_info": {
      "codemirror_mode": {
        "name": "ipython",
        "version": 3
      },
      "file_extension": ".py",
      "mimetype": "text/x-python",
      "name": "python",
      "nbconvert_exporter": "python",
      "pygments_lexer": "ipython3",
      "version": "3.11.11"
    }
  },
  "nbformat": 4,
  "nbformat_minor": 0
}
